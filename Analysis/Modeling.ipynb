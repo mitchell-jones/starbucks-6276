{
 "cells": [
  {
   "cell_type": "markdown",
   "id": "29762238",
   "metadata": {},
   "source": [
    "# Running logistic regression and linear discriminant analysis on starbucks data"
   ]
  },
  {
   "cell_type": "code",
   "execution_count": 1,
   "id": "692d8476",
   "metadata": {},
   "outputs": [],
   "source": [
    "import pandas as pd\n",
    "import matplotlib.pyplot as plt\n",
    "import seaborn as sns"
   ]
  },
  {
   "cell_type": "markdown",
   "id": "b5a5fa5e",
   "metadata": {},
   "source": [
    "## Adding and Editing Data"
   ]
  },
  {
   "cell_type": "code",
   "execution_count": 2,
   "id": "b666f52d",
   "metadata": {},
   "outputs": [],
   "source": [
    "offers = pd.read_csv('offers_transformed.csv')\n",
    "portfolio = pd.read_csv('portfolio_transformed.csv')\n",
    "profile = pd.read_csv('profile_transformed.csv')"
   ]
  },
  {
   "cell_type": "code",
   "execution_count": 3,
   "id": "72da0061",
   "metadata": {},
   "outputs": [
    {
     "data": {
      "text/html": [
       "<div>\n",
       "<style scoped>\n",
       "    .dataframe tbody tr th:only-of-type {\n",
       "        vertical-align: middle;\n",
       "    }\n",
       "\n",
       "    .dataframe tbody tr th {\n",
       "        vertical-align: top;\n",
       "    }\n",
       "\n",
       "    .dataframe thead th {\n",
       "        text-align: right;\n",
       "    }\n",
       "</style>\n",
       "<table border=\"1\" class=\"dataframe\">\n",
       "  <thead>\n",
       "    <tr style=\"text-align: right;\">\n",
       "      <th></th>\n",
       "      <th>person</th>\n",
       "      <th>received</th>\n",
       "      <th>received time</th>\n",
       "      <th>offer_id</th>\n",
       "      <th>viewed</th>\n",
       "      <th>viewed time</th>\n",
       "      <th>completed</th>\n",
       "      <th>completed time</th>\n",
       "      <th>reward</th>\n",
       "      <th>transaction</th>\n",
       "      <th>transaction time</th>\n",
       "      <th>amount</th>\n",
       "    </tr>\n",
       "  </thead>\n",
       "  <tbody>\n",
       "    <tr>\n",
       "      <th>0</th>\n",
       "      <td>78afa995795e4d85b5d9ceeca43f5fef</td>\n",
       "      <td>1</td>\n",
       "      <td>0</td>\n",
       "      <td>9b98b8c7a33c4b65b9aebfe6a799e6d9</td>\n",
       "      <td>1</td>\n",
       "      <td>6.0</td>\n",
       "      <td>1</td>\n",
       "      <td>132.0</td>\n",
       "      <td>5.0</td>\n",
       "      <td>1</td>\n",
       "      <td>132.0</td>\n",
       "      <td>19.89</td>\n",
       "    </tr>\n",
       "    <tr>\n",
       "      <th>1</th>\n",
       "      <td>a03223e636434f42ac4c3df47e8bac43</td>\n",
       "      <td>1</td>\n",
       "      <td>0</td>\n",
       "      <td>0b1e1539f2cc45b7b9fa7c272da2e1d7</td>\n",
       "      <td>1</td>\n",
       "      <td>6.0</td>\n",
       "      <td>0</td>\n",
       "      <td>NaN</td>\n",
       "      <td>NaN</td>\n",
       "      <td>0</td>\n",
       "      <td>NaN</td>\n",
       "      <td>NaN</td>\n",
       "    </tr>\n",
       "    <tr>\n",
       "      <th>2</th>\n",
       "      <td>a03223e636434f42ac4c3df47e8bac43</td>\n",
       "      <td>1</td>\n",
       "      <td>0</td>\n",
       "      <td>0b1e1539f2cc45b7b9fa7c272da2e1d7</td>\n",
       "      <td>1</td>\n",
       "      <td>624.0</td>\n",
       "      <td>0</td>\n",
       "      <td>NaN</td>\n",
       "      <td>NaN</td>\n",
       "      <td>0</td>\n",
       "      <td>NaN</td>\n",
       "      <td>NaN</td>\n",
       "    </tr>\n",
       "    <tr>\n",
       "      <th>3</th>\n",
       "      <td>e2127556f4f64592b11af22de27a7932</td>\n",
       "      <td>1</td>\n",
       "      <td>0</td>\n",
       "      <td>2906b810c7d4411798c6938adc9daaa5</td>\n",
       "      <td>1</td>\n",
       "      <td>18.0</td>\n",
       "      <td>0</td>\n",
       "      <td>NaN</td>\n",
       "      <td>NaN</td>\n",
       "      <td>0</td>\n",
       "      <td>NaN</td>\n",
       "      <td>NaN</td>\n",
       "    </tr>\n",
       "    <tr>\n",
       "      <th>4</th>\n",
       "      <td>8ec6ce2a7e7949b1bf142def7d0e0586</td>\n",
       "      <td>1</td>\n",
       "      <td>0</td>\n",
       "      <td>fafdcd668e3743c1bb461111dcafc2a4</td>\n",
       "      <td>1</td>\n",
       "      <td>12.0</td>\n",
       "      <td>0</td>\n",
       "      <td>NaN</td>\n",
       "      <td>NaN</td>\n",
       "      <td>0</td>\n",
       "      <td>NaN</td>\n",
       "      <td>NaN</td>\n",
       "    </tr>\n",
       "  </tbody>\n",
       "</table>\n",
       "</div>"
      ],
      "text/plain": [
       "                             person  received  received time  \\\n",
       "0  78afa995795e4d85b5d9ceeca43f5fef         1              0   \n",
       "1  a03223e636434f42ac4c3df47e8bac43         1              0   \n",
       "2  a03223e636434f42ac4c3df47e8bac43         1              0   \n",
       "3  e2127556f4f64592b11af22de27a7932         1              0   \n",
       "4  8ec6ce2a7e7949b1bf142def7d0e0586         1              0   \n",
       "\n",
       "                           offer_id  viewed  viewed time  completed  \\\n",
       "0  9b98b8c7a33c4b65b9aebfe6a799e6d9       1          6.0          1   \n",
       "1  0b1e1539f2cc45b7b9fa7c272da2e1d7       1          6.0          0   \n",
       "2  0b1e1539f2cc45b7b9fa7c272da2e1d7       1        624.0          0   \n",
       "3  2906b810c7d4411798c6938adc9daaa5       1         18.0          0   \n",
       "4  fafdcd668e3743c1bb461111dcafc2a4       1         12.0          0   \n",
       "\n",
       "   completed time  reward  transaction  transaction time  amount  \n",
       "0           132.0     5.0            1             132.0   19.89  \n",
       "1             NaN     NaN            0               NaN     NaN  \n",
       "2             NaN     NaN            0               NaN     NaN  \n",
       "3             NaN     NaN            0               NaN     NaN  \n",
       "4             NaN     NaN            0               NaN     NaN  "
      ]
     },
     "execution_count": 3,
     "metadata": {},
     "output_type": "execute_result"
    }
   ],
   "source": [
    "offers = offers.drop(columns=['Unnamed: 0'])\n",
    "offers.head()"
   ]
  },
  {
   "cell_type": "code",
   "execution_count": 4,
   "id": "484e90c1",
   "metadata": {},
   "outputs": [
    {
     "data": {
      "text/html": [
       "<div>\n",
       "<style scoped>\n",
       "    .dataframe tbody tr th:only-of-type {\n",
       "        vertical-align: middle;\n",
       "    }\n",
       "\n",
       "    .dataframe tbody tr th {\n",
       "        vertical-align: top;\n",
       "    }\n",
       "\n",
       "    .dataframe thead th {\n",
       "        text-align: right;\n",
       "    }\n",
       "</style>\n",
       "<table border=\"1\" class=\"dataframe\">\n",
       "  <thead>\n",
       "    <tr style=\"text-align: right;\">\n",
       "      <th></th>\n",
       "      <th>reward</th>\n",
       "      <th>difficulty</th>\n",
       "      <th>duration</th>\n",
       "      <th>offer_type</th>\n",
       "      <th>id</th>\n",
       "      <th>email</th>\n",
       "      <th>social</th>\n",
       "      <th>mobile</th>\n",
       "      <th>web</th>\n",
       "    </tr>\n",
       "  </thead>\n",
       "  <tbody>\n",
       "    <tr>\n",
       "      <th>0</th>\n",
       "      <td>10</td>\n",
       "      <td>10</td>\n",
       "      <td>7</td>\n",
       "      <td>bogo</td>\n",
       "      <td>ae264e3637204a6fb9bb56bc8210ddfd</td>\n",
       "      <td>1</td>\n",
       "      <td>1</td>\n",
       "      <td>1</td>\n",
       "      <td>0</td>\n",
       "    </tr>\n",
       "    <tr>\n",
       "      <th>1</th>\n",
       "      <td>10</td>\n",
       "      <td>10</td>\n",
       "      <td>5</td>\n",
       "      <td>bogo</td>\n",
       "      <td>4d5c57ea9a6940dd891ad53e9dbe8da0</td>\n",
       "      <td>1</td>\n",
       "      <td>1</td>\n",
       "      <td>1</td>\n",
       "      <td>1</td>\n",
       "    </tr>\n",
       "    <tr>\n",
       "      <th>2</th>\n",
       "      <td>0</td>\n",
       "      <td>0</td>\n",
       "      <td>4</td>\n",
       "      <td>informational</td>\n",
       "      <td>3f207df678b143eea3cee63160fa8bed</td>\n",
       "      <td>1</td>\n",
       "      <td>0</td>\n",
       "      <td>1</td>\n",
       "      <td>1</td>\n",
       "    </tr>\n",
       "    <tr>\n",
       "      <th>3</th>\n",
       "      <td>5</td>\n",
       "      <td>5</td>\n",
       "      <td>7</td>\n",
       "      <td>bogo</td>\n",
       "      <td>9b98b8c7a33c4b65b9aebfe6a799e6d9</td>\n",
       "      <td>1</td>\n",
       "      <td>0</td>\n",
       "      <td>1</td>\n",
       "      <td>1</td>\n",
       "    </tr>\n",
       "    <tr>\n",
       "      <th>4</th>\n",
       "      <td>5</td>\n",
       "      <td>20</td>\n",
       "      <td>10</td>\n",
       "      <td>discount</td>\n",
       "      <td>0b1e1539f2cc45b7b9fa7c272da2e1d7</td>\n",
       "      <td>1</td>\n",
       "      <td>0</td>\n",
       "      <td>0</td>\n",
       "      <td>1</td>\n",
       "    </tr>\n",
       "  </tbody>\n",
       "</table>\n",
       "</div>"
      ],
      "text/plain": [
       "   reward  difficulty  duration     offer_type  \\\n",
       "0      10          10         7           bogo   \n",
       "1      10          10         5           bogo   \n",
       "2       0           0         4  informational   \n",
       "3       5           5         7           bogo   \n",
       "4       5          20        10       discount   \n",
       "\n",
       "                                 id  email  social  mobile  web  \n",
       "0  ae264e3637204a6fb9bb56bc8210ddfd      1       1       1    0  \n",
       "1  4d5c57ea9a6940dd891ad53e9dbe8da0      1       1       1    1  \n",
       "2  3f207df678b143eea3cee63160fa8bed      1       0       1    1  \n",
       "3  9b98b8c7a33c4b65b9aebfe6a799e6d9      1       0       1    1  \n",
       "4  0b1e1539f2cc45b7b9fa7c272da2e1d7      1       0       0    1  "
      ]
     },
     "execution_count": 4,
     "metadata": {},
     "output_type": "execute_result"
    }
   ],
   "source": [
    "portfolio = portfolio.drop(columns=['Unnamed: 0'])\n",
    "portfolio.head()"
   ]
  },
  {
   "cell_type": "code",
   "execution_count": 5,
   "id": "aad7cfca",
   "metadata": {},
   "outputs": [
    {
     "data": {
      "text/html": [
       "<div>\n",
       "<style scoped>\n",
       "    .dataframe tbody tr th:only-of-type {\n",
       "        vertical-align: middle;\n",
       "    }\n",
       "\n",
       "    .dataframe tbody tr th {\n",
       "        vertical-align: top;\n",
       "    }\n",
       "\n",
       "    .dataframe thead th {\n",
       "        text-align: right;\n",
       "    }\n",
       "</style>\n",
       "<table border=\"1\" class=\"dataframe\">\n",
       "  <thead>\n",
       "    <tr style=\"text-align: right;\">\n",
       "      <th></th>\n",
       "      <th>gender</th>\n",
       "      <th>age</th>\n",
       "      <th>id</th>\n",
       "      <th>became_member_on</th>\n",
       "      <th>income</th>\n",
       "    </tr>\n",
       "  </thead>\n",
       "  <tbody>\n",
       "    <tr>\n",
       "      <th>0</th>\n",
       "      <td>F</td>\n",
       "      <td>55</td>\n",
       "      <td>0610b486422d4921ae7d2bf64640c50b</td>\n",
       "      <td>20170715</td>\n",
       "      <td>112000.0</td>\n",
       "    </tr>\n",
       "    <tr>\n",
       "      <th>1</th>\n",
       "      <td>F</td>\n",
       "      <td>75</td>\n",
       "      <td>78afa995795e4d85b5d9ceeca43f5fef</td>\n",
       "      <td>20170509</td>\n",
       "      <td>100000.0</td>\n",
       "    </tr>\n",
       "    <tr>\n",
       "      <th>2</th>\n",
       "      <td>M</td>\n",
       "      <td>68</td>\n",
       "      <td>e2127556f4f64592b11af22de27a7932</td>\n",
       "      <td>20180426</td>\n",
       "      <td>70000.0</td>\n",
       "    </tr>\n",
       "    <tr>\n",
       "      <th>3</th>\n",
       "      <td>M</td>\n",
       "      <td>65</td>\n",
       "      <td>389bc3fa690240e798340f5a15918d5c</td>\n",
       "      <td>20180209</td>\n",
       "      <td>53000.0</td>\n",
       "    </tr>\n",
       "    <tr>\n",
       "      <th>4</th>\n",
       "      <td>M</td>\n",
       "      <td>58</td>\n",
       "      <td>2eeac8d8feae4a8cad5a6af0499a211d</td>\n",
       "      <td>20171111</td>\n",
       "      <td>51000.0</td>\n",
       "    </tr>\n",
       "  </tbody>\n",
       "</table>\n",
       "</div>"
      ],
      "text/plain": [
       "  gender  age                                id  became_member_on    income\n",
       "0      F   55  0610b486422d4921ae7d2bf64640c50b          20170715  112000.0\n",
       "1      F   75  78afa995795e4d85b5d9ceeca43f5fef          20170509  100000.0\n",
       "2      M   68  e2127556f4f64592b11af22de27a7932          20180426   70000.0\n",
       "3      M   65  389bc3fa690240e798340f5a15918d5c          20180209   53000.0\n",
       "4      M   58  2eeac8d8feae4a8cad5a6af0499a211d          20171111   51000.0"
      ]
     },
     "execution_count": 5,
     "metadata": {},
     "output_type": "execute_result"
    }
   ],
   "source": [
    "profile = profile.drop(columns=['Unnamed: 0'])\n",
    "profile.head()"
   ]
  },
  {
   "cell_type": "code",
   "execution_count": 6,
   "id": "27cc460c",
   "metadata": {},
   "outputs": [],
   "source": [
    "full = offers.merge(portfolio, how = 'left', left_on = 'offer_id', right_on = 'id')"
   ]
  },
  {
   "cell_type": "code",
   "execution_count": 7,
   "id": "66f55183",
   "metadata": {},
   "outputs": [],
   "source": [
    "full = full.merge(profile, how = 'inner', left_on = 'person', right_on = 'id')"
   ]
  },
  {
   "cell_type": "code",
   "execution_count": 8,
   "id": "7f39191c",
   "metadata": {},
   "outputs": [
    {
     "data": {
      "text/html": [
       "<div>\n",
       "<style scoped>\n",
       "    .dataframe tbody tr th:only-of-type {\n",
       "        vertical-align: middle;\n",
       "    }\n",
       "\n",
       "    .dataframe tbody tr th {\n",
       "        vertical-align: top;\n",
       "    }\n",
       "\n",
       "    .dataframe thead th {\n",
       "        text-align: right;\n",
       "    }\n",
       "</style>\n",
       "<table border=\"1\" class=\"dataframe\">\n",
       "  <thead>\n",
       "    <tr style=\"text-align: right;\">\n",
       "      <th></th>\n",
       "      <th>person</th>\n",
       "      <th>received</th>\n",
       "      <th>received time</th>\n",
       "      <th>offer_id</th>\n",
       "      <th>viewed</th>\n",
       "      <th>viewed time</th>\n",
       "      <th>completed</th>\n",
       "      <th>completed time</th>\n",
       "      <th>reward_x</th>\n",
       "      <th>transaction</th>\n",
       "      <th>...</th>\n",
       "      <th>id_x</th>\n",
       "      <th>email</th>\n",
       "      <th>social</th>\n",
       "      <th>mobile</th>\n",
       "      <th>web</th>\n",
       "      <th>gender</th>\n",
       "      <th>age</th>\n",
       "      <th>id_y</th>\n",
       "      <th>became_member_on</th>\n",
       "      <th>income</th>\n",
       "    </tr>\n",
       "  </thead>\n",
       "  <tbody>\n",
       "    <tr>\n",
       "      <th>0</th>\n",
       "      <td>78afa995795e4d85b5d9ceeca43f5fef</td>\n",
       "      <td>1</td>\n",
       "      <td>0</td>\n",
       "      <td>9b98b8c7a33c4b65b9aebfe6a799e6d9</td>\n",
       "      <td>1</td>\n",
       "      <td>6.0</td>\n",
       "      <td>1</td>\n",
       "      <td>132.0</td>\n",
       "      <td>5.0</td>\n",
       "      <td>1</td>\n",
       "      <td>...</td>\n",
       "      <td>9b98b8c7a33c4b65b9aebfe6a799e6d9</td>\n",
       "      <td>1</td>\n",
       "      <td>0</td>\n",
       "      <td>1</td>\n",
       "      <td>1</td>\n",
       "      <td>F</td>\n",
       "      <td>75</td>\n",
       "      <td>78afa995795e4d85b5d9ceeca43f5fef</td>\n",
       "      <td>20170509</td>\n",
       "      <td>100000.0</td>\n",
       "    </tr>\n",
       "    <tr>\n",
       "      <th>1</th>\n",
       "      <td>78afa995795e4d85b5d9ceeca43f5fef</td>\n",
       "      <td>1</td>\n",
       "      <td>168</td>\n",
       "      <td>5a8bc65990b245e5a138643cd4eb9837</td>\n",
       "      <td>1</td>\n",
       "      <td>216.0</td>\n",
       "      <td>0</td>\n",
       "      <td>NaN</td>\n",
       "      <td>NaN</td>\n",
       "      <td>0</td>\n",
       "      <td>...</td>\n",
       "      <td>5a8bc65990b245e5a138643cd4eb9837</td>\n",
       "      <td>1</td>\n",
       "      <td>1</td>\n",
       "      <td>1</td>\n",
       "      <td>0</td>\n",
       "      <td>F</td>\n",
       "      <td>75</td>\n",
       "      <td>78afa995795e4d85b5d9ceeca43f5fef</td>\n",
       "      <td>20170509</td>\n",
       "      <td>100000.0</td>\n",
       "    </tr>\n",
       "    <tr>\n",
       "      <th>2</th>\n",
       "      <td>78afa995795e4d85b5d9ceeca43f5fef</td>\n",
       "      <td>1</td>\n",
       "      <td>408</td>\n",
       "      <td>ae264e3637204a6fb9bb56bc8210ddfd</td>\n",
       "      <td>1</td>\n",
       "      <td>408.0</td>\n",
       "      <td>1</td>\n",
       "      <td>510.0</td>\n",
       "      <td>10.0</td>\n",
       "      <td>1</td>\n",
       "      <td>...</td>\n",
       "      <td>ae264e3637204a6fb9bb56bc8210ddfd</td>\n",
       "      <td>1</td>\n",
       "      <td>1</td>\n",
       "      <td>1</td>\n",
       "      <td>0</td>\n",
       "      <td>F</td>\n",
       "      <td>75</td>\n",
       "      <td>78afa995795e4d85b5d9ceeca43f5fef</td>\n",
       "      <td>20170509</td>\n",
       "      <td>100000.0</td>\n",
       "    </tr>\n",
       "    <tr>\n",
       "      <th>3</th>\n",
       "      <td>78afa995795e4d85b5d9ceeca43f5fef</td>\n",
       "      <td>1</td>\n",
       "      <td>504</td>\n",
       "      <td>f19421c1d4aa40978ebb69ca19b0e20d</td>\n",
       "      <td>1</td>\n",
       "      <td>582.0</td>\n",
       "      <td>1</td>\n",
       "      <td>510.0</td>\n",
       "      <td>5.0</td>\n",
       "      <td>1</td>\n",
       "      <td>...</td>\n",
       "      <td>f19421c1d4aa40978ebb69ca19b0e20d</td>\n",
       "      <td>1</td>\n",
       "      <td>1</td>\n",
       "      <td>1</td>\n",
       "      <td>1</td>\n",
       "      <td>F</td>\n",
       "      <td>75</td>\n",
       "      <td>78afa995795e4d85b5d9ceeca43f5fef</td>\n",
       "      <td>20170509</td>\n",
       "      <td>100000.0</td>\n",
       "    </tr>\n",
       "    <tr>\n",
       "      <th>4</th>\n",
       "      <td>e2127556f4f64592b11af22de27a7932</td>\n",
       "      <td>1</td>\n",
       "      <td>0</td>\n",
       "      <td>2906b810c7d4411798c6938adc9daaa5</td>\n",
       "      <td>1</td>\n",
       "      <td>18.0</td>\n",
       "      <td>0</td>\n",
       "      <td>NaN</td>\n",
       "      <td>NaN</td>\n",
       "      <td>0</td>\n",
       "      <td>...</td>\n",
       "      <td>2906b810c7d4411798c6938adc9daaa5</td>\n",
       "      <td>1</td>\n",
       "      <td>0</td>\n",
       "      <td>1</td>\n",
       "      <td>1</td>\n",
       "      <td>M</td>\n",
       "      <td>68</td>\n",
       "      <td>e2127556f4f64592b11af22de27a7932</td>\n",
       "      <td>20180426</td>\n",
       "      <td>70000.0</td>\n",
       "    </tr>\n",
       "  </tbody>\n",
       "</table>\n",
       "<p>5 rows × 26 columns</p>\n",
       "</div>"
      ],
      "text/plain": [
       "                             person  received  received time  \\\n",
       "0  78afa995795e4d85b5d9ceeca43f5fef         1              0   \n",
       "1  78afa995795e4d85b5d9ceeca43f5fef         1            168   \n",
       "2  78afa995795e4d85b5d9ceeca43f5fef         1            408   \n",
       "3  78afa995795e4d85b5d9ceeca43f5fef         1            504   \n",
       "4  e2127556f4f64592b11af22de27a7932         1              0   \n",
       "\n",
       "                           offer_id  viewed  viewed time  completed  \\\n",
       "0  9b98b8c7a33c4b65b9aebfe6a799e6d9       1          6.0          1   \n",
       "1  5a8bc65990b245e5a138643cd4eb9837       1        216.0          0   \n",
       "2  ae264e3637204a6fb9bb56bc8210ddfd       1        408.0          1   \n",
       "3  f19421c1d4aa40978ebb69ca19b0e20d       1        582.0          1   \n",
       "4  2906b810c7d4411798c6938adc9daaa5       1         18.0          0   \n",
       "\n",
       "   completed time  reward_x  transaction  ...  \\\n",
       "0           132.0       5.0            1  ...   \n",
       "1             NaN       NaN            0  ...   \n",
       "2           510.0      10.0            1  ...   \n",
       "3           510.0       5.0            1  ...   \n",
       "4             NaN       NaN            0  ...   \n",
       "\n",
       "                               id_x  email  social  mobile  web gender age  \\\n",
       "0  9b98b8c7a33c4b65b9aebfe6a799e6d9      1       0       1    1      F  75   \n",
       "1  5a8bc65990b245e5a138643cd4eb9837      1       1       1    0      F  75   \n",
       "2  ae264e3637204a6fb9bb56bc8210ddfd      1       1       1    0      F  75   \n",
       "3  f19421c1d4aa40978ebb69ca19b0e20d      1       1       1    1      F  75   \n",
       "4  2906b810c7d4411798c6938adc9daaa5      1       0       1    1      M  68   \n",
       "\n",
       "                               id_y  became_member_on    income  \n",
       "0  78afa995795e4d85b5d9ceeca43f5fef          20170509  100000.0  \n",
       "1  78afa995795e4d85b5d9ceeca43f5fef          20170509  100000.0  \n",
       "2  78afa995795e4d85b5d9ceeca43f5fef          20170509  100000.0  \n",
       "3  78afa995795e4d85b5d9ceeca43f5fef          20170509  100000.0  \n",
       "4  e2127556f4f64592b11af22de27a7932          20180426   70000.0  \n",
       "\n",
       "[5 rows x 26 columns]"
      ]
     },
     "execution_count": 8,
     "metadata": {},
     "output_type": "execute_result"
    }
   ],
   "source": [
    "full.head()"
   ]
  },
  {
   "cell_type": "code",
   "execution_count": 9,
   "id": "989a9963",
   "metadata": {},
   "outputs": [],
   "source": [
    "full_columns_dropped = full.drop(columns = ['person', 'offer_id',  'reward_x', 'id_x', 'id_y'\n",
    "                                            , 'received time', 'viewed', 'viewed time', 'completed time', \n",
    "                                            'transaction', 'amount', 'transaction time', 'received'])"
   ]
  },
  {
   "cell_type": "code",
   "execution_count": 10,
   "id": "5f6f91ab",
   "metadata": {},
   "outputs": [
    {
     "data": {
      "text/html": [
       "<div>\n",
       "<style scoped>\n",
       "    .dataframe tbody tr th:only-of-type {\n",
       "        vertical-align: middle;\n",
       "    }\n",
       "\n",
       "    .dataframe tbody tr th {\n",
       "        vertical-align: top;\n",
       "    }\n",
       "\n",
       "    .dataframe thead th {\n",
       "        text-align: right;\n",
       "    }\n",
       "</style>\n",
       "<table border=\"1\" class=\"dataframe\">\n",
       "  <thead>\n",
       "    <tr style=\"text-align: right;\">\n",
       "      <th></th>\n",
       "      <th>completed</th>\n",
       "      <th>reward_y</th>\n",
       "      <th>difficulty</th>\n",
       "      <th>duration</th>\n",
       "      <th>offer_type</th>\n",
       "      <th>email</th>\n",
       "      <th>social</th>\n",
       "      <th>mobile</th>\n",
       "      <th>web</th>\n",
       "      <th>gender</th>\n",
       "      <th>age</th>\n",
       "      <th>became_member_on</th>\n",
       "      <th>income</th>\n",
       "    </tr>\n",
       "  </thead>\n",
       "  <tbody>\n",
       "    <tr>\n",
       "      <th>0</th>\n",
       "      <td>1</td>\n",
       "      <td>5</td>\n",
       "      <td>5</td>\n",
       "      <td>7</td>\n",
       "      <td>bogo</td>\n",
       "      <td>1</td>\n",
       "      <td>0</td>\n",
       "      <td>1</td>\n",
       "      <td>1</td>\n",
       "      <td>F</td>\n",
       "      <td>75</td>\n",
       "      <td>20170509</td>\n",
       "      <td>100000.0</td>\n",
       "    </tr>\n",
       "    <tr>\n",
       "      <th>1</th>\n",
       "      <td>0</td>\n",
       "      <td>0</td>\n",
       "      <td>0</td>\n",
       "      <td>3</td>\n",
       "      <td>informational</td>\n",
       "      <td>1</td>\n",
       "      <td>1</td>\n",
       "      <td>1</td>\n",
       "      <td>0</td>\n",
       "      <td>F</td>\n",
       "      <td>75</td>\n",
       "      <td>20170509</td>\n",
       "      <td>100000.0</td>\n",
       "    </tr>\n",
       "    <tr>\n",
       "      <th>2</th>\n",
       "      <td>1</td>\n",
       "      <td>10</td>\n",
       "      <td>10</td>\n",
       "      <td>7</td>\n",
       "      <td>bogo</td>\n",
       "      <td>1</td>\n",
       "      <td>1</td>\n",
       "      <td>1</td>\n",
       "      <td>0</td>\n",
       "      <td>F</td>\n",
       "      <td>75</td>\n",
       "      <td>20170509</td>\n",
       "      <td>100000.0</td>\n",
       "    </tr>\n",
       "    <tr>\n",
       "      <th>3</th>\n",
       "      <td>1</td>\n",
       "      <td>5</td>\n",
       "      <td>5</td>\n",
       "      <td>5</td>\n",
       "      <td>bogo</td>\n",
       "      <td>1</td>\n",
       "      <td>1</td>\n",
       "      <td>1</td>\n",
       "      <td>1</td>\n",
       "      <td>F</td>\n",
       "      <td>75</td>\n",
       "      <td>20170509</td>\n",
       "      <td>100000.0</td>\n",
       "    </tr>\n",
       "    <tr>\n",
       "      <th>4</th>\n",
       "      <td>0</td>\n",
       "      <td>2</td>\n",
       "      <td>10</td>\n",
       "      <td>7</td>\n",
       "      <td>discount</td>\n",
       "      <td>1</td>\n",
       "      <td>0</td>\n",
       "      <td>1</td>\n",
       "      <td>1</td>\n",
       "      <td>M</td>\n",
       "      <td>68</td>\n",
       "      <td>20180426</td>\n",
       "      <td>70000.0</td>\n",
       "    </tr>\n",
       "  </tbody>\n",
       "</table>\n",
       "</div>"
      ],
      "text/plain": [
       "   completed  reward_y  difficulty  duration     offer_type  email  social  \\\n",
       "0          1         5           5         7           bogo      1       0   \n",
       "1          0         0           0         3  informational      1       1   \n",
       "2          1        10          10         7           bogo      1       1   \n",
       "3          1         5           5         5           bogo      1       1   \n",
       "4          0         2          10         7       discount      1       0   \n",
       "\n",
       "   mobile  web gender  age  became_member_on    income  \n",
       "0       1    1      F   75          20170509  100000.0  \n",
       "1       1    0      F   75          20170509  100000.0  \n",
       "2       1    0      F   75          20170509  100000.0  \n",
       "3       1    1      F   75          20170509  100000.0  \n",
       "4       1    1      M   68          20180426   70000.0  "
      ]
     },
     "execution_count": 10,
     "metadata": {},
     "output_type": "execute_result"
    }
   ],
   "source": [
    "full_columns_dropped.head()"
   ]
  },
  {
   "cell_type": "code",
   "execution_count": 55,
   "id": "a599ac47",
   "metadata": {},
   "outputs": [],
   "source": [
    "full_columns_dropped.to_csv('no_dummies.csv', index = False)"
   ]
  },
  {
   "cell_type": "code",
   "execution_count": 11,
   "id": "c7518508",
   "metadata": {},
   "outputs": [],
   "source": [
    "full_data = pd.get_dummies(full_columns_dropped)"
   ]
  },
  {
   "cell_type": "code",
   "execution_count": 12,
   "id": "f45ca70c",
   "metadata": {},
   "outputs": [
    {
     "data": {
      "text/html": [
       "<div>\n",
       "<style scoped>\n",
       "    .dataframe tbody tr th:only-of-type {\n",
       "        vertical-align: middle;\n",
       "    }\n",
       "\n",
       "    .dataframe tbody tr th {\n",
       "        vertical-align: top;\n",
       "    }\n",
       "\n",
       "    .dataframe thead th {\n",
       "        text-align: right;\n",
       "    }\n",
       "</style>\n",
       "<table border=\"1\" class=\"dataframe\">\n",
       "  <thead>\n",
       "    <tr style=\"text-align: right;\">\n",
       "      <th></th>\n",
       "      <th>completed</th>\n",
       "      <th>reward_y</th>\n",
       "      <th>difficulty</th>\n",
       "      <th>duration</th>\n",
       "      <th>email</th>\n",
       "      <th>social</th>\n",
       "      <th>mobile</th>\n",
       "      <th>web</th>\n",
       "      <th>age</th>\n",
       "      <th>became_member_on</th>\n",
       "      <th>income</th>\n",
       "      <th>offer_type_bogo</th>\n",
       "      <th>offer_type_discount</th>\n",
       "      <th>offer_type_informational</th>\n",
       "      <th>gender_F</th>\n",
       "      <th>gender_M</th>\n",
       "      <th>gender_O</th>\n",
       "    </tr>\n",
       "  </thead>\n",
       "  <tbody>\n",
       "    <tr>\n",
       "      <th>0</th>\n",
       "      <td>1</td>\n",
       "      <td>5</td>\n",
       "      <td>5</td>\n",
       "      <td>7</td>\n",
       "      <td>1</td>\n",
       "      <td>0</td>\n",
       "      <td>1</td>\n",
       "      <td>1</td>\n",
       "      <td>75</td>\n",
       "      <td>20170509</td>\n",
       "      <td>100000.0</td>\n",
       "      <td>1</td>\n",
       "      <td>0</td>\n",
       "      <td>0</td>\n",
       "      <td>1</td>\n",
       "      <td>0</td>\n",
       "      <td>0</td>\n",
       "    </tr>\n",
       "    <tr>\n",
       "      <th>1</th>\n",
       "      <td>0</td>\n",
       "      <td>0</td>\n",
       "      <td>0</td>\n",
       "      <td>3</td>\n",
       "      <td>1</td>\n",
       "      <td>1</td>\n",
       "      <td>1</td>\n",
       "      <td>0</td>\n",
       "      <td>75</td>\n",
       "      <td>20170509</td>\n",
       "      <td>100000.0</td>\n",
       "      <td>0</td>\n",
       "      <td>0</td>\n",
       "      <td>1</td>\n",
       "      <td>1</td>\n",
       "      <td>0</td>\n",
       "      <td>0</td>\n",
       "    </tr>\n",
       "    <tr>\n",
       "      <th>2</th>\n",
       "      <td>1</td>\n",
       "      <td>10</td>\n",
       "      <td>10</td>\n",
       "      <td>7</td>\n",
       "      <td>1</td>\n",
       "      <td>1</td>\n",
       "      <td>1</td>\n",
       "      <td>0</td>\n",
       "      <td>75</td>\n",
       "      <td>20170509</td>\n",
       "      <td>100000.0</td>\n",
       "      <td>1</td>\n",
       "      <td>0</td>\n",
       "      <td>0</td>\n",
       "      <td>1</td>\n",
       "      <td>0</td>\n",
       "      <td>0</td>\n",
       "    </tr>\n",
       "    <tr>\n",
       "      <th>3</th>\n",
       "      <td>1</td>\n",
       "      <td>5</td>\n",
       "      <td>5</td>\n",
       "      <td>5</td>\n",
       "      <td>1</td>\n",
       "      <td>1</td>\n",
       "      <td>1</td>\n",
       "      <td>1</td>\n",
       "      <td>75</td>\n",
       "      <td>20170509</td>\n",
       "      <td>100000.0</td>\n",
       "      <td>1</td>\n",
       "      <td>0</td>\n",
       "      <td>0</td>\n",
       "      <td>1</td>\n",
       "      <td>0</td>\n",
       "      <td>0</td>\n",
       "    </tr>\n",
       "    <tr>\n",
       "      <th>4</th>\n",
       "      <td>0</td>\n",
       "      <td>2</td>\n",
       "      <td>10</td>\n",
       "      <td>7</td>\n",
       "      <td>1</td>\n",
       "      <td>0</td>\n",
       "      <td>1</td>\n",
       "      <td>1</td>\n",
       "      <td>68</td>\n",
       "      <td>20180426</td>\n",
       "      <td>70000.0</td>\n",
       "      <td>0</td>\n",
       "      <td>1</td>\n",
       "      <td>0</td>\n",
       "      <td>0</td>\n",
       "      <td>1</td>\n",
       "      <td>0</td>\n",
       "    </tr>\n",
       "  </tbody>\n",
       "</table>\n",
       "</div>"
      ],
      "text/plain": [
       "   completed  reward_y  difficulty  duration  email  social  mobile  web  age  \\\n",
       "0          1         5           5         7      1       0       1    1   75   \n",
       "1          0         0           0         3      1       1       1    0   75   \n",
       "2          1        10          10         7      1       1       1    0   75   \n",
       "3          1         5           5         5      1       1       1    1   75   \n",
       "4          0         2          10         7      1       0       1    1   68   \n",
       "\n",
       "   became_member_on    income  offer_type_bogo  offer_type_discount  \\\n",
       "0          20170509  100000.0                1                    0   \n",
       "1          20170509  100000.0                0                    0   \n",
       "2          20170509  100000.0                1                    0   \n",
       "3          20170509  100000.0                1                    0   \n",
       "4          20180426   70000.0                0                    1   \n",
       "\n",
       "   offer_type_informational  gender_F  gender_M  gender_O  \n",
       "0                         0         1         0         0  \n",
       "1                         1         1         0         0  \n",
       "2                         0         1         0         0  \n",
       "3                         0         1         0         0  \n",
       "4                         0         0         1         0  "
      ]
     },
     "execution_count": 12,
     "metadata": {},
     "output_type": "execute_result"
    }
   ],
   "source": [
    "full_data.head()"
   ]
  },
  {
   "cell_type": "code",
   "execution_count": 13,
   "id": "978dcbf4",
   "metadata": {
    "scrolled": false
   },
   "outputs": [
    {
     "data": {
      "text/html": [
       "<div>\n",
       "<style scoped>\n",
       "    .dataframe tbody tr th:only-of-type {\n",
       "        vertical-align: middle;\n",
       "    }\n",
       "\n",
       "    .dataframe tbody tr th {\n",
       "        vertical-align: top;\n",
       "    }\n",
       "\n",
       "    .dataframe thead th {\n",
       "        text-align: right;\n",
       "    }\n",
       "</style>\n",
       "<table border=\"1\" class=\"dataframe\">\n",
       "  <thead>\n",
       "    <tr style=\"text-align: right;\">\n",
       "      <th></th>\n",
       "      <th>completed</th>\n",
       "      <th>reward_y</th>\n",
       "      <th>difficulty</th>\n",
       "      <th>duration</th>\n",
       "      <th>email</th>\n",
       "      <th>social</th>\n",
       "      <th>mobile</th>\n",
       "      <th>web</th>\n",
       "      <th>age</th>\n",
       "      <th>became_member_on</th>\n",
       "      <th>income</th>\n",
       "      <th>offer_type_bogo</th>\n",
       "      <th>offer_type_discount</th>\n",
       "      <th>offer_type_informational</th>\n",
       "      <th>gender_F</th>\n",
       "      <th>gender_M</th>\n",
       "      <th>gender_O</th>\n",
       "    </tr>\n",
       "  </thead>\n",
       "  <tbody>\n",
       "    <tr>\n",
       "      <th>count</th>\n",
       "      <td>102693.000000</td>\n",
       "      <td>102693.000000</td>\n",
       "      <td>102693.000000</td>\n",
       "      <td>102693.000000</td>\n",
       "      <td>102693.0</td>\n",
       "      <td>102693.000000</td>\n",
       "      <td>102693.000000</td>\n",
       "      <td>102693.000000</td>\n",
       "      <td>102693.000000</td>\n",
       "      <td>1.026930e+05</td>\n",
       "      <td>102693.000000</td>\n",
       "      <td>102693.000000</td>\n",
       "      <td>102693.000000</td>\n",
       "      <td>102693.000000</td>\n",
       "      <td>102693.000000</td>\n",
       "      <td>102693.000000</td>\n",
       "      <td>102693.000000</td>\n",
       "    </tr>\n",
       "    <tr>\n",
       "      <th>mean</th>\n",
       "      <td>0.632877</td>\n",
       "      <td>4.396892</td>\n",
       "      <td>7.844751</td>\n",
       "      <td>6.616118</td>\n",
       "      <td>1.0</td>\n",
       "      <td>0.655906</td>\n",
       "      <td>0.917492</td>\n",
       "      <td>0.807377</td>\n",
       "      <td>54.780258</td>\n",
       "      <td>2.016638e+07</td>\n",
       "      <td>66339.575239</td>\n",
       "      <td>0.421723</td>\n",
       "      <td>0.420029</td>\n",
       "      <td>0.158248</td>\n",
       "      <td>0.427897</td>\n",
       "      <td>0.557497</td>\n",
       "      <td>0.014607</td>\n",
       "    </tr>\n",
       "    <tr>\n",
       "      <th>std</th>\n",
       "      <td>0.482023</td>\n",
       "      <td>3.377710</td>\n",
       "      <td>5.068050</td>\n",
       "      <td>2.140023</td>\n",
       "      <td>0.0</td>\n",
       "      <td>0.475074</td>\n",
       "      <td>0.275139</td>\n",
       "      <td>0.394361</td>\n",
       "      <td>17.216516</td>\n",
       "      <td>1.171675e+04</td>\n",
       "      <td>21446.508252</td>\n",
       "      <td>0.493837</td>\n",
       "      <td>0.493566</td>\n",
       "      <td>0.364976</td>\n",
       "      <td>0.494776</td>\n",
       "      <td>0.496686</td>\n",
       "      <td>0.119973</td>\n",
       "    </tr>\n",
       "    <tr>\n",
       "      <th>min</th>\n",
       "      <td>0.000000</td>\n",
       "      <td>0.000000</td>\n",
       "      <td>0.000000</td>\n",
       "      <td>3.000000</td>\n",
       "      <td>1.0</td>\n",
       "      <td>0.000000</td>\n",
       "      <td>0.000000</td>\n",
       "      <td>0.000000</td>\n",
       "      <td>18.000000</td>\n",
       "      <td>2.013073e+07</td>\n",
       "      <td>30000.000000</td>\n",
       "      <td>0.000000</td>\n",
       "      <td>0.000000</td>\n",
       "      <td>0.000000</td>\n",
       "      <td>0.000000</td>\n",
       "      <td>0.000000</td>\n",
       "      <td>0.000000</td>\n",
       "    </tr>\n",
       "    <tr>\n",
       "      <th>25%</th>\n",
       "      <td>0.000000</td>\n",
       "      <td>2.000000</td>\n",
       "      <td>5.000000</td>\n",
       "      <td>5.000000</td>\n",
       "      <td>1.0</td>\n",
       "      <td>0.000000</td>\n",
       "      <td>1.000000</td>\n",
       "      <td>1.000000</td>\n",
       "      <td>43.000000</td>\n",
       "      <td>2.016043e+07</td>\n",
       "      <td>51000.000000</td>\n",
       "      <td>0.000000</td>\n",
       "      <td>0.000000</td>\n",
       "      <td>0.000000</td>\n",
       "      <td>0.000000</td>\n",
       "      <td>0.000000</td>\n",
       "      <td>0.000000</td>\n",
       "    </tr>\n",
       "    <tr>\n",
       "      <th>50%</th>\n",
       "      <td>1.000000</td>\n",
       "      <td>5.000000</td>\n",
       "      <td>10.000000</td>\n",
       "      <td>7.000000</td>\n",
       "      <td>1.0</td>\n",
       "      <td>1.000000</td>\n",
       "      <td>1.000000</td>\n",
       "      <td>1.000000</td>\n",
       "      <td>56.000000</td>\n",
       "      <td>2.017062e+07</td>\n",
       "      <td>65000.000000</td>\n",
       "      <td>0.000000</td>\n",
       "      <td>0.000000</td>\n",
       "      <td>0.000000</td>\n",
       "      <td>0.000000</td>\n",
       "      <td>1.000000</td>\n",
       "      <td>0.000000</td>\n",
       "    </tr>\n",
       "    <tr>\n",
       "      <th>75%</th>\n",
       "      <td>1.000000</td>\n",
       "      <td>5.000000</td>\n",
       "      <td>10.000000</td>\n",
       "      <td>7.000000</td>\n",
       "      <td>1.0</td>\n",
       "      <td>1.000000</td>\n",
       "      <td>1.000000</td>\n",
       "      <td>1.000000</td>\n",
       "      <td>67.000000</td>\n",
       "      <td>2.017121e+07</td>\n",
       "      <td>81000.000000</td>\n",
       "      <td>1.000000</td>\n",
       "      <td>1.000000</td>\n",
       "      <td>0.000000</td>\n",
       "      <td>1.000000</td>\n",
       "      <td>1.000000</td>\n",
       "      <td>0.000000</td>\n",
       "    </tr>\n",
       "    <tr>\n",
       "      <th>max</th>\n",
       "      <td>1.000000</td>\n",
       "      <td>10.000000</td>\n",
       "      <td>20.000000</td>\n",
       "      <td>10.000000</td>\n",
       "      <td>1.0</td>\n",
       "      <td>1.000000</td>\n",
       "      <td>1.000000</td>\n",
       "      <td>1.000000</td>\n",
       "      <td>101.000000</td>\n",
       "      <td>2.018073e+07</td>\n",
       "      <td>120000.000000</td>\n",
       "      <td>1.000000</td>\n",
       "      <td>1.000000</td>\n",
       "      <td>1.000000</td>\n",
       "      <td>1.000000</td>\n",
       "      <td>1.000000</td>\n",
       "      <td>1.000000</td>\n",
       "    </tr>\n",
       "  </tbody>\n",
       "</table>\n",
       "</div>"
      ],
      "text/plain": [
       "           completed       reward_y     difficulty       duration     email  \\\n",
       "count  102693.000000  102693.000000  102693.000000  102693.000000  102693.0   \n",
       "mean        0.632877       4.396892       7.844751       6.616118       1.0   \n",
       "std         0.482023       3.377710       5.068050       2.140023       0.0   \n",
       "min         0.000000       0.000000       0.000000       3.000000       1.0   \n",
       "25%         0.000000       2.000000       5.000000       5.000000       1.0   \n",
       "50%         1.000000       5.000000      10.000000       7.000000       1.0   \n",
       "75%         1.000000       5.000000      10.000000       7.000000       1.0   \n",
       "max         1.000000      10.000000      20.000000      10.000000       1.0   \n",
       "\n",
       "              social         mobile            web            age  \\\n",
       "count  102693.000000  102693.000000  102693.000000  102693.000000   \n",
       "mean        0.655906       0.917492       0.807377      54.780258   \n",
       "std         0.475074       0.275139       0.394361      17.216516   \n",
       "min         0.000000       0.000000       0.000000      18.000000   \n",
       "25%         0.000000       1.000000       1.000000      43.000000   \n",
       "50%         1.000000       1.000000       1.000000      56.000000   \n",
       "75%         1.000000       1.000000       1.000000      67.000000   \n",
       "max         1.000000       1.000000       1.000000     101.000000   \n",
       "\n",
       "       became_member_on         income  offer_type_bogo  offer_type_discount  \\\n",
       "count      1.026930e+05  102693.000000    102693.000000        102693.000000   \n",
       "mean       2.016638e+07   66339.575239         0.421723             0.420029   \n",
       "std        1.171675e+04   21446.508252         0.493837             0.493566   \n",
       "min        2.013073e+07   30000.000000         0.000000             0.000000   \n",
       "25%        2.016043e+07   51000.000000         0.000000             0.000000   \n",
       "50%        2.017062e+07   65000.000000         0.000000             0.000000   \n",
       "75%        2.017121e+07   81000.000000         1.000000             1.000000   \n",
       "max        2.018073e+07  120000.000000         1.000000             1.000000   \n",
       "\n",
       "       offer_type_informational       gender_F       gender_M       gender_O  \n",
       "count             102693.000000  102693.000000  102693.000000  102693.000000  \n",
       "mean                   0.158248       0.427897       0.557497       0.014607  \n",
       "std                    0.364976       0.494776       0.496686       0.119973  \n",
       "min                    0.000000       0.000000       0.000000       0.000000  \n",
       "25%                    0.000000       0.000000       0.000000       0.000000  \n",
       "50%                    0.000000       0.000000       1.000000       0.000000  \n",
       "75%                    0.000000       1.000000       1.000000       0.000000  \n",
       "max                    1.000000       1.000000       1.000000       1.000000  "
      ]
     },
     "execution_count": 13,
     "metadata": {},
     "output_type": "execute_result"
    }
   ],
   "source": [
    "full_data.describe()"
   ]
  },
  {
   "cell_type": "markdown",
   "id": "5e4bcc99",
   "metadata": {},
   "source": [
    "Need to remove email - all 1's"
   ]
  },
  {
   "cell_type": "code",
   "execution_count": 14,
   "id": "0ae051ca",
   "metadata": {},
   "outputs": [],
   "source": [
    "full_data = full_data.drop('email', 1)"
   ]
  },
  {
   "cell_type": "code",
   "execution_count": 15,
   "id": "fd08186c",
   "metadata": {},
   "outputs": [
    {
     "data": {
      "image/png": "[encoded data removed]",
      "text/plain": [
       "<Figure size 432x288 with 1 Axes>"
      ]
     },
     "metadata": {
      "needs_background": "light"
     },
     "output_type": "display_data"
    }
   ],
   "source": [
    "sns.countplot(x = 'completed', data = full_data)\n",
    "plt.show()"
   ]
  },
  {
   "cell_type": "code",
   "execution_count": 16,
   "id": "14ab8025",
   "metadata": {},
   "outputs": [
    {
     "data": {
      "image/png": "[encoded data removed]",
      "text/plain": [
       "<Figure size 432x288 with 2 Axes>"
      ]
     },
     "metadata": {
      "needs_background": "light"
     },
     "output_type": "display_data"
    }
   ],
   "source": [
    "corrMatrix = full_data.corr()\n",
    "sns.heatmap(corrMatrix, annot = False)\n",
    "plt.show()"
   ]
  },
  {
   "cell_type": "code",
   "execution_count": 17,
   "id": "14fe1dc4",
   "metadata": {},
   "outputs": [],
   "source": [
    "full_data.to_csv('full_data.csv', index = False)"
   ]
  },
  {
   "cell_type": "markdown",
   "id": "fbb73e05",
   "metadata": {},
   "source": [
    "# Logistic Regression - Full Model (Baseline)"
   ]
  },
  {
   "cell_type": "code",
   "execution_count": 18,
   "id": "194c7707",
   "metadata": {},
   "outputs": [],
   "source": [
    "from sklearn.linear_model import LogisticRegression\n",
    "from sklearn.model_selection import train_test_split"
   ]
  },
  {
   "cell_type": "code",
   "execution_count": 19,
   "id": "fd88a9e3",
   "metadata": {},
   "outputs": [],
   "source": [
    "model = LogisticRegression(solver = 'liblinear')"
   ]
  },
  {
   "cell_type": "code",
   "execution_count": 20,
   "id": "fd155491",
   "metadata": {},
   "outputs": [],
   "source": [
    "X_train, X_test, y_train, y_test = train_test_split(full_data, full_data['completed'],\n",
    "                                                    test_size = 0.2, random_state = 25)"
   ]
  },
  {
   "cell_type": "code",
   "execution_count": 21,
   "id": "6b8a30ff",
   "metadata": {},
   "outputs": [
    {
     "data": {
      "text/html": [
       "<div>\n",
       "<style scoped>\n",
       "    .dataframe tbody tr th:only-of-type {\n",
       "        vertical-align: middle;\n",
       "    }\n",
       "\n",
       "    .dataframe tbody tr th {\n",
       "        vertical-align: top;\n",
       "    }\n",
       "\n",
       "    .dataframe thead th {\n",
       "        text-align: right;\n",
       "    }\n",
       "</style>\n",
       "<table border=\"1\" class=\"dataframe\">\n",
       "  <thead>\n",
       "    <tr style=\"text-align: right;\">\n",
       "      <th></th>\n",
       "      <th>completed</th>\n",
       "      <th>reward_y</th>\n",
       "      <th>difficulty</th>\n",
       "      <th>duration</th>\n",
       "      <th>social</th>\n",
       "      <th>mobile</th>\n",
       "      <th>web</th>\n",
       "      <th>age</th>\n",
       "      <th>became_member_on</th>\n",
       "      <th>income</th>\n",
       "      <th>offer_type_bogo</th>\n",
       "      <th>offer_type_discount</th>\n",
       "      <th>offer_type_informational</th>\n",
       "      <th>gender_F</th>\n",
       "      <th>gender_M</th>\n",
       "      <th>gender_O</th>\n",
       "    </tr>\n",
       "  </thead>\n",
       "  <tbody>\n",
       "    <tr>\n",
       "      <th>75981</th>\n",
       "      <td>1</td>\n",
       "      <td>3</td>\n",
       "      <td>7</td>\n",
       "      <td>7</td>\n",
       "      <td>1</td>\n",
       "      <td>1</td>\n",
       "      <td>1</td>\n",
       "      <td>42</td>\n",
       "      <td>20150201</td>\n",
       "      <td>72000.0</td>\n",
       "      <td>0</td>\n",
       "      <td>1</td>\n",
       "      <td>0</td>\n",
       "      <td>0</td>\n",
       "      <td>1</td>\n",
       "      <td>0</td>\n",
       "    </tr>\n",
       "    <tr>\n",
       "      <th>42706</th>\n",
       "      <td>1</td>\n",
       "      <td>10</td>\n",
       "      <td>10</td>\n",
       "      <td>7</td>\n",
       "      <td>1</td>\n",
       "      <td>1</td>\n",
       "      <td>0</td>\n",
       "      <td>64</td>\n",
       "      <td>20171119</td>\n",
       "      <td>55000.0</td>\n",
       "      <td>1</td>\n",
       "      <td>0</td>\n",
       "      <td>0</td>\n",
       "      <td>0</td>\n",
       "      <td>1</td>\n",
       "      <td>0</td>\n",
       "    </tr>\n",
       "    <tr>\n",
       "      <th>69061</th>\n",
       "      <td>1</td>\n",
       "      <td>10</td>\n",
       "      <td>10</td>\n",
       "      <td>7</td>\n",
       "      <td>1</td>\n",
       "      <td>1</td>\n",
       "      <td>0</td>\n",
       "      <td>46</td>\n",
       "      <td>20171127</td>\n",
       "      <td>40000.0</td>\n",
       "      <td>1</td>\n",
       "      <td>0</td>\n",
       "      <td>0</td>\n",
       "      <td>1</td>\n",
       "      <td>0</td>\n",
       "      <td>0</td>\n",
       "    </tr>\n",
       "    <tr>\n",
       "      <th>54223</th>\n",
       "      <td>0</td>\n",
       "      <td>0</td>\n",
       "      <td>0</td>\n",
       "      <td>4</td>\n",
       "      <td>0</td>\n",
       "      <td>1</td>\n",
       "      <td>1</td>\n",
       "      <td>53</td>\n",
       "      <td>20171021</td>\n",
       "      <td>94000.0</td>\n",
       "      <td>0</td>\n",
       "      <td>0</td>\n",
       "      <td>1</td>\n",
       "      <td>1</td>\n",
       "      <td>0</td>\n",
       "      <td>0</td>\n",
       "    </tr>\n",
       "    <tr>\n",
       "      <th>65945</th>\n",
       "      <td>0</td>\n",
       "      <td>5</td>\n",
       "      <td>5</td>\n",
       "      <td>7</td>\n",
       "      <td>0</td>\n",
       "      <td>1</td>\n",
       "      <td>1</td>\n",
       "      <td>46</td>\n",
       "      <td>20171013</td>\n",
       "      <td>67000.0</td>\n",
       "      <td>1</td>\n",
       "      <td>0</td>\n",
       "      <td>0</td>\n",
       "      <td>0</td>\n",
       "      <td>1</td>\n",
       "      <td>0</td>\n",
       "    </tr>\n",
       "  </tbody>\n",
       "</table>\n",
       "</div>"
      ],
      "text/plain": [
       "       completed  reward_y  difficulty  duration  social  mobile  web  age  \\\n",
       "75981          1         3           7         7       1       1    1   42   \n",
       "42706          1        10          10         7       1       1    0   64   \n",
       "69061          1        10          10         7       1       1    0   46   \n",
       "54223          0         0           0         4       0       1    1   53   \n",
       "65945          0         5           5         7       0       1    1   46   \n",
       "\n",
       "       became_member_on   income  offer_type_bogo  offer_type_discount  \\\n",
       "75981          20150201  72000.0                0                    1   \n",
       "42706          20171119  55000.0                1                    0   \n",
       "69061          20171127  40000.0                1                    0   \n",
       "54223          20171021  94000.0                0                    0   \n",
       "65945          20171013  67000.0                1                    0   \n",
       "\n",
       "       offer_type_informational  gender_F  gender_M  gender_O  \n",
       "75981                         0         0         1         0  \n",
       "42706                         0         0         1         0  \n",
       "69061                         0         1         0         0  \n",
       "54223                         1         1         0         0  \n",
       "65945                         0         0         1         0  "
      ]
     },
     "execution_count": 21,
     "metadata": {},
     "output_type": "execute_result"
    }
   ],
   "source": [
    "X_train.head()"
   ]
  },
  {
   "cell_type": "code",
   "execution_count": 22,
   "id": "b9f3a09f",
   "metadata": {},
   "outputs": [
    {
     "data": {
      "text/plain": [
       "LogisticRegression(solver='liblinear')"
      ]
     },
     "execution_count": 22,
     "metadata": {},
     "output_type": "execute_result"
    }
   ],
   "source": [
    "model.fit(X_train, y_train)"
   ]
  },
  {
   "cell_type": "code",
   "execution_count": 23,
   "id": "9f6c98c7",
   "metadata": {},
   "outputs": [],
   "source": [
    "predictions = model.predict(X_test)"
   ]
  },
  {
   "cell_type": "code",
   "execution_count": 24,
   "id": "c1980b91",
   "metadata": {},
   "outputs": [
    {
     "name": "stdout",
     "output_type": "stream",
     "text": [
      "              precision    recall  f1-score   support\n",
      "\n",
      "           0       0.51      0.11      0.19      7578\n",
      "           1       0.64      0.94      0.76     12961\n",
      "\n",
      "    accuracy                           0.63     20539\n",
      "   macro avg       0.58      0.53      0.47     20539\n",
      "weighted avg       0.59      0.63      0.55     20539\n",
      "\n"
     ]
    }
   ],
   "source": [
    "from sklearn.metrics import classification_report\n",
    "print(classification_report(y_test, predictions))"
   ]
  },
  {
   "cell_type": "code",
   "execution_count": 25,
   "id": "0f0bff77",
   "metadata": {},
   "outputs": [
    {
     "data": {
      "text/plain": [
       "array([[  862,  6716],\n",
       "       [  825, 12136]])"
      ]
     },
     "execution_count": 25,
     "metadata": {},
     "output_type": "execute_result"
    }
   ],
   "source": [
    "import sklearn.metrics as metrics\n",
    "metrics.confusion_matrix(y_test, predictions)"
   ]
  },
  {
   "cell_type": "markdown",
   "id": "e8f5144c",
   "metadata": {},
   "source": [
    "Calculating Baseline Accuracy"
   ]
  },
  {
   "cell_type": "code",
   "execution_count": 26,
   "id": "60ef10e9",
   "metadata": {},
   "outputs": [
    {
     "data": {
      "text/plain": [
       "0.6328766322923666"
      ]
     },
     "execution_count": 26,
     "metadata": {},
     "output_type": "execute_result"
    }
   ],
   "source": [
    "(sum(full_data['completed']))/(full_data.shape[0])#"
   ]
  },
  {
   "cell_type": "markdown",
   "id": "6b66af20",
   "metadata": {},
   "source": [
    "# Logistic Regression"
   ]
  },
  {
   "cell_type": "code",
   "execution_count": 27,
   "id": "3b96d64b",
   "metadata": {},
   "outputs": [],
   "source": [
    "log_reg_data = full_data.drop(['duration', 'became_member_on', 'gender_F', 'gender_M', 'gender_O'], axis = 1)"
   ]
  },
  {
   "cell_type": "code",
   "execution_count": 28,
   "id": "133b433d",
   "metadata": {},
   "outputs": [
    {
     "data": {
      "text/html": [
       "<div>\n",
       "<style scoped>\n",
       "    .dataframe tbody tr th:only-of-type {\n",
       "        vertical-align: middle;\n",
       "    }\n",
       "\n",
       "    .dataframe tbody tr th {\n",
       "        vertical-align: top;\n",
       "    }\n",
       "\n",
       "    .dataframe thead th {\n",
       "        text-align: right;\n",
       "    }\n",
       "</style>\n",
       "<table border=\"1\" class=\"dataframe\">\n",
       "  <thead>\n",
       "    <tr style=\"text-align: right;\">\n",
       "      <th></th>\n",
       "      <th>completed</th>\n",
       "      <th>reward_y</th>\n",
       "      <th>difficulty</th>\n",
       "      <th>social</th>\n",
       "      <th>mobile</th>\n",
       "      <th>web</th>\n",
       "      <th>age</th>\n",
       "      <th>income</th>\n",
       "      <th>offer_type_bogo</th>\n",
       "      <th>offer_type_discount</th>\n",
       "      <th>offer_type_informational</th>\n",
       "    </tr>\n",
       "  </thead>\n",
       "  <tbody>\n",
       "    <tr>\n",
       "      <th>0</th>\n",
       "      <td>1</td>\n",
       "      <td>5</td>\n",
       "      <td>5</td>\n",
       "      <td>0</td>\n",
       "      <td>1</td>\n",
       "      <td>1</td>\n",
       "      <td>75</td>\n",
       "      <td>100000.0</td>\n",
       "      <td>1</td>\n",
       "      <td>0</td>\n",
       "      <td>0</td>\n",
       "    </tr>\n",
       "    <tr>\n",
       "      <th>1</th>\n",
       "      <td>0</td>\n",
       "      <td>0</td>\n",
       "      <td>0</td>\n",
       "      <td>1</td>\n",
       "      <td>1</td>\n",
       "      <td>0</td>\n",
       "      <td>75</td>\n",
       "      <td>100000.0</td>\n",
       "      <td>0</td>\n",
       "      <td>0</td>\n",
       "      <td>1</td>\n",
       "    </tr>\n",
       "    <tr>\n",
       "      <th>2</th>\n",
       "      <td>1</td>\n",
       "      <td>10</td>\n",
       "      <td>10</td>\n",
       "      <td>1</td>\n",
       "      <td>1</td>\n",
       "      <td>0</td>\n",
       "      <td>75</td>\n",
       "      <td>100000.0</td>\n",
       "      <td>1</td>\n",
       "      <td>0</td>\n",
       "      <td>0</td>\n",
       "    </tr>\n",
       "    <tr>\n",
       "      <th>3</th>\n",
       "      <td>1</td>\n",
       "      <td>5</td>\n",
       "      <td>5</td>\n",
       "      <td>1</td>\n",
       "      <td>1</td>\n",
       "      <td>1</td>\n",
       "      <td>75</td>\n",
       "      <td>100000.0</td>\n",
       "      <td>1</td>\n",
       "      <td>0</td>\n",
       "      <td>0</td>\n",
       "    </tr>\n",
       "    <tr>\n",
       "      <th>4</th>\n",
       "      <td>0</td>\n",
       "      <td>2</td>\n",
       "      <td>10</td>\n",
       "      <td>0</td>\n",
       "      <td>1</td>\n",
       "      <td>1</td>\n",
       "      <td>68</td>\n",
       "      <td>70000.0</td>\n",
       "      <td>0</td>\n",
       "      <td>1</td>\n",
       "      <td>0</td>\n",
       "    </tr>\n",
       "  </tbody>\n",
       "</table>\n",
       "</div>"
      ],
      "text/plain": [
       "   completed  reward_y  difficulty  social  mobile  web  age    income  \\\n",
       "0          1         5           5       0       1    1   75  100000.0   \n",
       "1          0         0           0       1       1    0   75  100000.0   \n",
       "2          1        10          10       1       1    0   75  100000.0   \n",
       "3          1         5           5       1       1    1   75  100000.0   \n",
       "4          0         2          10       0       1    1   68   70000.0   \n",
       "\n",
       "   offer_type_bogo  offer_type_discount  offer_type_informational  \n",
       "0                1                    0                         0  \n",
       "1                0                    0                         1  \n",
       "2                1                    0                         0  \n",
       "3                1                    0                         0  \n",
       "4                0                    1                         0  "
      ]
     },
     "execution_count": 28,
     "metadata": {},
     "output_type": "execute_result"
    }
   ],
   "source": [
    "log_reg_data.head()"
   ]
  },
  {
   "cell_type": "code",
   "execution_count": 29,
   "id": "64b41714",
   "metadata": {},
   "outputs": [],
   "source": [
    "log_reg_data.to_csv('log_reg_data.csv', index = False)"
   ]
  },
  {
   "cell_type": "markdown",
   "id": "e29ae149",
   "metadata": {},
   "source": [
    "Running the Logistic Regression"
   ]
  },
  {
   "cell_type": "code",
   "execution_count": 30,
   "id": "72bda497",
   "metadata": {},
   "outputs": [],
   "source": [
    "model2 = LogisticRegression(solver = 'liblinear')"
   ]
  },
  {
   "cell_type": "code",
   "execution_count": 31,
   "id": "d130891b",
   "metadata": {},
   "outputs": [],
   "source": [
    "X_train2, X_test2, y_train2, y_test2 = train_test_split(log_reg_data, log_reg_data['completed'],\n",
    "                                                    test_size = 0.2, random_state = 25)"
   ]
  },
  {
   "cell_type": "code",
   "execution_count": 32,
   "id": "640d385b",
   "metadata": {},
   "outputs": [
    {
     "data": {
      "text/plain": [
       "LogisticRegression(solver='liblinear')"
      ]
     },
     "execution_count": 32,
     "metadata": {},
     "output_type": "execute_result"
    }
   ],
   "source": [
    "model2.fit(X_train2, y_train2)"
   ]
  },
  {
   "cell_type": "code",
   "execution_count": 33,
   "id": "7d158864",
   "metadata": {},
   "outputs": [],
   "source": [
    "y_pred = model2.predict(X_test2)"
   ]
  },
  {
   "cell_type": "code",
   "execution_count": 34,
   "id": "70e45b85",
   "metadata": {},
   "outputs": [
    {
     "name": "stdout",
     "output_type": "stream",
     "text": [
      "DescribeResult(nobs=20539, minmax=(0, 1), mean=0.828180534592726, variance=0.14230446521461343, skewness=-1.7399794645229254, kurtosis=1.027528536961488)\n"
     ]
    }
   ],
   "source": [
    "from scipy import stats\n",
    "print(stats.describe(y_pred))"
   ]
  },
  {
   "cell_type": "code",
   "execution_count": 35,
   "id": "140322ae",
   "metadata": {},
   "outputs": [
    {
     "name": "stdout",
     "output_type": "stream",
     "text": [
      "              precision    recall  f1-score   support\n",
      "\n",
      "           0       1.00      0.46      0.63      7578\n",
      "           1       0.76      1.00      0.86     12961\n",
      "\n",
      "    accuracy                           0.80     20539\n",
      "   macro avg       0.88      0.73      0.75     20539\n",
      "weighted avg       0.85      0.80      0.78     20539\n",
      "\n"
     ]
    }
   ],
   "source": [
    "print(classification_report(y_test2, y_pred))"
   ]
  },
  {
   "cell_type": "code",
   "execution_count": 36,
   "id": "53098ff9",
   "metadata": {},
   "outputs": [
    {
     "data": {
      "text/plain": [
       "array([[ 3512,  4066],\n",
       "       [   17, 12944]])"
      ]
     },
     "execution_count": 36,
     "metadata": {},
     "output_type": "execute_result"
    }
   ],
   "source": [
    "metrics.confusion_matrix(y_test2, y_pred)"
   ]
  },
  {
   "cell_type": "markdown",
   "id": "c81d7261",
   "metadata": {},
   "source": [
    "# Interpretation"
   ]
  },
  {
   "cell_type": "code",
   "execution_count": 37,
   "id": "fe3e3f0a",
   "metadata": {},
   "outputs": [
    {
     "data": {
      "text/plain": [
       "<AxesSubplot:ylabel='count'>"
      ]
     },
     "execution_count": 37,
     "metadata": {},
     "output_type": "execute_result"
    },
    {
     "data": {
      "image/png": "[encoded data removed]",
      "text/plain": [
       "<Figure size 432x288 with 1 Axes>"
      ]
     },
     "metadata": {
      "needs_background": "light"
     },
     "output_type": "display_data"
    }
   ],
   "source": [
    "sns.countplot(x = y_pred)"
   ]
  },
  {
   "cell_type": "code",
   "execution_count": 38,
   "id": "e22a955d",
   "metadata": {},
   "outputs": [
    {
     "data": {
      "image/png": "[encoded data removed]",
      "text/plain": [
       "<Figure size 432x288 with 1 Axes>"
      ]
     },
     "metadata": {
      "needs_background": "light"
     },
     "output_type": "display_data"
    }
   ],
   "source": [
    "from sklearn.metrics import roc_auc_score\n",
    "from sklearn.metrics import roc_curve\n",
    "logit_roc_auc = roc_auc_score(y_test2, y_pred)\n",
    "fpr, tpr, thresholds = roc_curve(y_test2, model2.predict_proba(X_test2)[:,1])\n",
    "plt.figure()\n",
    "plt.plot(fpr, tpr, label='Logistic Regression (area = %0.2f)' % logit_roc_auc)\n",
    "plt.plot([0, 1], [0, 1],'r--')\n",
    "plt.xlim([0.0, 1.0])\n",
    "plt.ylim([0.0, 1.05])\n",
    "plt.xlabel('False Positive Rate')\n",
    "plt.ylabel('True Positive Rate')\n",
    "plt.title('Receiver operating characteristic')\n",
    "plt.legend(loc=\"lower right\")\n",
    "plt.show()"
   ]
  },
  {
   "cell_type": "code",
   "execution_count": 39,
   "id": "7beef247",
   "metadata": {},
   "outputs": [
    {
     "name": "stdout",
     "output_type": "stream",
     "text": [
      "Index(['completed', 'reward_y', 'difficulty', 'social', 'mobile', 'web', 'age',\n",
      "       'income', 'offer_type_bogo', 'offer_type_discount',\n",
      "       'offer_type_informational'],\n",
      "      dtype='object')\n"
     ]
    }
   ],
   "source": [
    "cols = X_test2.columns\n",
    "print(cols)"
   ]
  },
  {
   "cell_type": "code",
   "execution_count": 40,
   "id": "80cd0d09",
   "metadata": {},
   "outputs": [
    {
     "name": "stdout",
     "output_type": "stream",
     "text": [
      "[[ 4.22666805e-01  5.46226444e-02  1.08553370e-01  1.96449471e-02\n",
      "  -1.03255921e-02  4.41740700e-02 -1.55632040e-02  3.47594605e-06\n",
      "   3.16570961e-02  6.99769726e-02 -1.52613071e-01]]\n"
     ]
    }
   ],
   "source": [
    "coefficients = model2.coef_\n",
    "print(coefficients)"
   ]
  },
  {
   "cell_type": "markdown",
   "id": "60c6c05b",
   "metadata": {},
   "source": [
    "Logistic Regression for Age Group"
   ]
  },
  {
   "cell_type": "code",
   "execution_count": 41,
   "id": "b3c4b49b",
   "metadata": {},
   "outputs": [
    {
     "data": {
      "text/html": [
       "<div>\n",
       "<style scoped>\n",
       "    .dataframe tbody tr th:only-of-type {\n",
       "        vertical-align: middle;\n",
       "    }\n",
       "\n",
       "    .dataframe tbody tr th {\n",
       "        vertical-align: top;\n",
       "    }\n",
       "\n",
       "    .dataframe thead th {\n",
       "        text-align: right;\n",
       "    }\n",
       "</style>\n",
       "<table border=\"1\" class=\"dataframe\">\n",
       "  <thead>\n",
       "    <tr style=\"text-align: right;\">\n",
       "      <th></th>\n",
       "      <th>completed</th>\n",
       "      <th>reward_y</th>\n",
       "      <th>difficulty</th>\n",
       "      <th>social</th>\n",
       "      <th>mobile</th>\n",
       "      <th>web</th>\n",
       "      <th>age</th>\n",
       "      <th>income</th>\n",
       "      <th>offer_type_bogo</th>\n",
       "      <th>offer_type_discount</th>\n",
       "      <th>offer_type_informational</th>\n",
       "    </tr>\n",
       "  </thead>\n",
       "  <tbody>\n",
       "    <tr>\n",
       "      <th>count</th>\n",
       "      <td>15464.000000</td>\n",
       "      <td>15464.000000</td>\n",
       "      <td>15464.00000</td>\n",
       "      <td>15464.000000</td>\n",
       "      <td>15464.000000</td>\n",
       "      <td>15464.000000</td>\n",
       "      <td>15464.000000</td>\n",
       "      <td>15464.000000</td>\n",
       "      <td>15464.000000</td>\n",
       "      <td>15464.00000</td>\n",
       "      <td>15464.000000</td>\n",
       "    </tr>\n",
       "    <tr>\n",
       "      <th>mean</th>\n",
       "      <td>0.529811</td>\n",
       "      <td>4.429255</td>\n",
       "      <td>7.81680</td>\n",
       "      <td>0.674082</td>\n",
       "      <td>0.922206</td>\n",
       "      <td>0.800375</td>\n",
       "      <td>26.741593</td>\n",
       "      <td>51187.661666</td>\n",
       "      <td>0.418585</td>\n",
       "      <td>0.42059</td>\n",
       "      <td>0.160825</td>\n",
       "    </tr>\n",
       "    <tr>\n",
       "      <th>std</th>\n",
       "      <td>0.499127</td>\n",
       "      <td>3.432977</td>\n",
       "      <td>5.00789</td>\n",
       "      <td>0.468732</td>\n",
       "      <td>0.267855</td>\n",
       "      <td>0.399731</td>\n",
       "      <td>5.065180</td>\n",
       "      <td>12934.293891</td>\n",
       "      <td>0.493343</td>\n",
       "      <td>0.49367</td>\n",
       "      <td>0.367381</td>\n",
       "    </tr>\n",
       "    <tr>\n",
       "      <th>min</th>\n",
       "      <td>0.000000</td>\n",
       "      <td>0.000000</td>\n",
       "      <td>0.00000</td>\n",
       "      <td>0.000000</td>\n",
       "      <td>0.000000</td>\n",
       "      <td>0.000000</td>\n",
       "      <td>18.000000</td>\n",
       "      <td>30000.000000</td>\n",
       "      <td>0.000000</td>\n",
       "      <td>0.00000</td>\n",
       "      <td>0.000000</td>\n",
       "    </tr>\n",
       "    <tr>\n",
       "      <th>25%</th>\n",
       "      <td>0.000000</td>\n",
       "      <td>2.000000</td>\n",
       "      <td>5.00000</td>\n",
       "      <td>0.000000</td>\n",
       "      <td>1.000000</td>\n",
       "      <td>1.000000</td>\n",
       "      <td>22.000000</td>\n",
       "      <td>40000.000000</td>\n",
       "      <td>0.000000</td>\n",
       "      <td>0.00000</td>\n",
       "      <td>0.000000</td>\n",
       "    </tr>\n",
       "    <tr>\n",
       "      <th>50%</th>\n",
       "      <td>1.000000</td>\n",
       "      <td>3.000000</td>\n",
       "      <td>10.00000</td>\n",
       "      <td>1.000000</td>\n",
       "      <td>1.000000</td>\n",
       "      <td>1.000000</td>\n",
       "      <td>27.000000</td>\n",
       "      <td>51000.000000</td>\n",
       "      <td>0.000000</td>\n",
       "      <td>0.00000</td>\n",
       "      <td>0.000000</td>\n",
       "    </tr>\n",
       "    <tr>\n",
       "      <th>75%</th>\n",
       "      <td>1.000000</td>\n",
       "      <td>5.000000</td>\n",
       "      <td>10.00000</td>\n",
       "      <td>1.000000</td>\n",
       "      <td>1.000000</td>\n",
       "      <td>1.000000</td>\n",
       "      <td>31.000000</td>\n",
       "      <td>62000.000000</td>\n",
       "      <td>1.000000</td>\n",
       "      <td>1.00000</td>\n",
       "      <td>0.000000</td>\n",
       "    </tr>\n",
       "    <tr>\n",
       "      <th>max</th>\n",
       "      <td>1.000000</td>\n",
       "      <td>10.000000</td>\n",
       "      <td>20.00000</td>\n",
       "      <td>1.000000</td>\n",
       "      <td>1.000000</td>\n",
       "      <td>1.000000</td>\n",
       "      <td>35.000000</td>\n",
       "      <td>75000.000000</td>\n",
       "      <td>1.000000</td>\n",
       "      <td>1.00000</td>\n",
       "      <td>1.000000</td>\n",
       "    </tr>\n",
       "  </tbody>\n",
       "</table>\n",
       "</div>"
      ],
      "text/plain": [
       "          completed      reward_y   difficulty        social        mobile  \\\n",
       "count  15464.000000  15464.000000  15464.00000  15464.000000  15464.000000   \n",
       "mean       0.529811      4.429255      7.81680      0.674082      0.922206   \n",
       "std        0.499127      3.432977      5.00789      0.468732      0.267855   \n",
       "min        0.000000      0.000000      0.00000      0.000000      0.000000   \n",
       "25%        0.000000      2.000000      5.00000      0.000000      1.000000   \n",
       "50%        1.000000      3.000000     10.00000      1.000000      1.000000   \n",
       "75%        1.000000      5.000000     10.00000      1.000000      1.000000   \n",
       "max        1.000000     10.000000     20.00000      1.000000      1.000000   \n",
       "\n",
       "                web           age        income  offer_type_bogo  \\\n",
       "count  15464.000000  15464.000000  15464.000000     15464.000000   \n",
       "mean       0.800375     26.741593  51187.661666         0.418585   \n",
       "std        0.399731      5.065180  12934.293891         0.493343   \n",
       "min        0.000000     18.000000  30000.000000         0.000000   \n",
       "25%        1.000000     22.000000  40000.000000         0.000000   \n",
       "50%        1.000000     27.000000  51000.000000         0.000000   \n",
       "75%        1.000000     31.000000  62000.000000         1.000000   \n",
       "max        1.000000     35.000000  75000.000000         1.000000   \n",
       "\n",
       "       offer_type_discount  offer_type_informational  \n",
       "count          15464.00000              15464.000000  \n",
       "mean               0.42059                  0.160825  \n",
       "std                0.49367                  0.367381  \n",
       "min                0.00000                  0.000000  \n",
       "25%                0.00000                  0.000000  \n",
       "50%                0.00000                  0.000000  \n",
       "75%                1.00000                  0.000000  \n",
       "max                1.00000                  1.000000  "
      ]
     },
     "execution_count": 41,
     "metadata": {},
     "output_type": "execute_result"
    }
   ],
   "source": [
    "college_age = log_reg_data[log_reg_data['age'] <= 35]\n",
    "college_age.describe()"
   ]
  },
  {
   "cell_type": "code",
   "execution_count": 42,
   "id": "5f7bb027",
   "metadata": {},
   "outputs": [
    {
     "data": {
      "image/png": "[encoded data removed]",
      "text/plain": [
       "<Figure size 432x288 with 1 Axes>"
      ]
     },
     "metadata": {
      "needs_background": "light"
     },
     "output_type": "display_data"
    }
   ],
   "source": [
    "sns.countplot(x = 'completed', data = college_age)\n",
    "plt.show()"
   ]
  },
  {
   "cell_type": "code",
   "execution_count": 43,
   "id": "6b425c83",
   "metadata": {},
   "outputs": [],
   "source": [
    "model3 = LogisticRegression()"
   ]
  },
  {
   "cell_type": "code",
   "execution_count": 44,
   "id": "bf596380",
   "metadata": {},
   "outputs": [],
   "source": [
    "X_train3, X_test3, y_train3, y_test3 = train_test_split(college_age, college_age['completed'],\n",
    "                                                    test_size = 0.2, random_state = 25)"
   ]
  },
  {
   "cell_type": "code",
   "execution_count": 45,
   "id": "8061b3b3",
   "metadata": {},
   "outputs": [
    {
     "data": {
      "text/plain": [
       "LogisticRegression()"
      ]
     },
     "execution_count": 45,
     "metadata": {},
     "output_type": "execute_result"
    }
   ],
   "source": [
    "model3.fit(X_train3, y_train3)"
   ]
  },
  {
   "cell_type": "code",
   "execution_count": 46,
   "id": "2419f76b",
   "metadata": {},
   "outputs": [],
   "source": [
    "y_pred3 = model3.predict(X_test3)"
   ]
  },
  {
   "cell_type": "code",
   "execution_count": 47,
   "id": "22d85bea",
   "metadata": {},
   "outputs": [
    {
     "name": "stdout",
     "output_type": "stream",
     "text": [
      "DescribeResult(nobs=3093, minmax=(0, 1), mean=0.6886517943743938, variance=0.21447984410819576, skewness=-0.8148316895450667, kurtosis=-1.336049317713132)\n"
     ]
    }
   ],
   "source": [
    "print(stats.describe(y_pred3))"
   ]
  },
  {
   "cell_type": "code",
   "execution_count": 48,
   "id": "a53cad2c",
   "metadata": {},
   "outputs": [
    {
     "name": "stdout",
     "output_type": "stream",
     "text": [
      "              precision    recall  f1-score   support\n",
      "\n",
      "           0       0.68      0.44      0.54      1489\n",
      "           1       0.61      0.81      0.70      1604\n",
      "\n",
      "    accuracy                           0.63      3093\n",
      "   macro avg       0.65      0.63      0.62      3093\n",
      "weighted avg       0.65      0.63      0.62      3093\n",
      "\n"
     ]
    }
   ],
   "source": [
    "print(classification_report(y_test3, y_pred3))"
   ]
  },
  {
   "cell_type": "code",
   "execution_count": 49,
   "id": "c62d7c64",
   "metadata": {},
   "outputs": [
    {
     "data": {
      "text/plain": [
       "array([[ 3512,  4066],\n",
       "       [   17, 12944]])"
      ]
     },
     "execution_count": 49,
     "metadata": {},
     "output_type": "execute_result"
    }
   ],
   "source": [
    "metrics.confusion_matrix(y_test2, y_pred)"
   ]
  },
  {
   "cell_type": "markdown",
   "id": "17c02eca",
   "metadata": {},
   "source": [
    "Baseline Accuracy"
   ]
  },
  {
   "cell_type": "code",
   "execution_count": 50,
   "id": "9b044f4b",
   "metadata": {},
   "outputs": [
    {
     "data": {
      "text/plain": [
       "0.5298111743404035"
      ]
     },
     "execution_count": 50,
     "metadata": {},
     "output_type": "execute_result"
    }
   ],
   "source": [
    "(sum(college_age['completed']))/(college_age.shape[0])"
   ]
  },
  {
   "cell_type": "code",
   "execution_count": 51,
   "id": "d148fbf7",
   "metadata": {},
   "outputs": [
    {
     "name": "stderr",
     "output_type": "stream",
     "text": [
      "/Users/taylorcox/opt/anaconda3/lib/python3.8/site-packages/seaborn/_decorators.py:36: FutureWarning: Pass the following variable as a keyword arg: x. From version 0.12, the only valid positional argument will be `data`, and passing other arguments without an explicit keyword will result in an error or misinterpretation.\n",
      "  warnings.warn(\n"
     ]
    },
    {
     "data": {
      "image/png": "[encoded data removed]",
      "text/plain": [
       "<Figure size 432x288 with 1 Axes>"
      ]
     },
     "metadata": {
      "needs_background": "light"
     },
     "output_type": "display_data"
    }
   ],
   "source": [
    "sns.countplot(y_pred3)\n",
    "plt.show()"
   ]
  },
  {
   "cell_type": "code",
   "execution_count": 52,
   "id": "c84e3f3c",
   "metadata": {},
   "outputs": [
    {
     "data": {
      "image/png": "[encoded data removed]",
      "text/plain": [
       "<Figure size 432x288 with 1 Axes>"
      ]
     },
     "metadata": {
      "needs_background": "light"
     },
     "output_type": "display_data"
    }
   ],
   "source": [
    "logit_roc_auc3 = roc_auc_score(y_test3, y_pred3)\n",
    "fpr, tpr, thresholds = roc_curve(y_test3, model3.predict_proba(X_test3)[:,1])\n",
    "plt.figure()\n",
    "plt.plot(fpr, tpr, label='Logistic Regression (area = %0.2f)' % logit_roc_auc3)\n",
    "plt.plot([0, 1], [0, 1],'r--')\n",
    "plt.xlim([0.0, 1.0])\n",
    "plt.ylim([0.0, 1.05])\n",
    "plt.xlabel('False Positive Rate')\n",
    "plt.ylabel('True Positive Rate')\n",
    "plt.title('Receiver operating characteristic')\n",
    "plt.legend(loc=\"lower right\")\n",
    "plt.show()"
   ]
  },
  {
   "cell_type": "code",
   "execution_count": 53,
   "id": "73bcd80f",
   "metadata": {},
   "outputs": [
    {
     "data": {
      "text/plain": [
       "array([[ 4.35939981e-02,  2.98208524e-02,  8.74914679e-02,\n",
       "         4.49757709e-03,  1.10780371e-04,  7.83417150e-03,\n",
       "        -1.40757478e-02, -5.55571762e-06,  2.77008130e-03,\n",
       "         1.15129576e-02, -1.53339211e-02]])"
      ]
     },
     "execution_count": 53,
     "metadata": {},
     "output_type": "execute_result"
    }
   ],
   "source": [
    "model3.coef_"
   ]
  },
  {
   "cell_type": "code",
   "execution_count": null,
   "id": "18fd4a64",
   "metadata": {},
   "outputs": [],
   "source": []
  }
 ],
 "metadata": {
  "kernelspec": {
   "display_name": "Python 3",
   "language": "python",
   "name": "python3"
  },
  "language_info": {
   "codemirror_mode": {
    "name": "ipython",
    "version": 3
   },
   "file_extension": ".py",
   "mimetype": "text/x-python",
   "name": "python",
   "nbconvert_exporter": "python",
   "pygments_lexer": "ipython3",
   "version": "3.8.8"
  }
 },
 "nbformat": 4,
 "nbformat_minor": 5
}
