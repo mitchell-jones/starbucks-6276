{
 "cells": [
  {
   "cell_type": "markdown",
   "metadata": {},
   "source": [
    "# Rolling up Offer and Transaction Data for Clustering "
   ]
  },
  {
   "cell_type": "code",
   "execution_count": 1,
   "metadata": {},
   "outputs": [],
   "source": [
    "import pandas as pd\n",
    "import os\n",
    "import pandasql as ps"
   ]
  },
  {
   "cell_type": "code",
   "execution_count": null,
   "metadata": {},
   "outputs": [],
   "source": [
    "os.chdir('path to whatever folder contains transaction_transformed, offers_transformed csvs')"
   ]
  },
  {
   "cell_type": "markdown",
   "metadata": {},
   "source": [
    "## Query for Offer Related Information"
   ]
  },
  {
   "cell_type": "code",
   "execution_count": 5,
   "metadata": {},
   "outputs": [],
   "source": [
    "offers = pd.read_csv('offers_transformed.csv')"
   ]
  },
  {
   "cell_type": "code",
   "execution_count": 6,
   "metadata": {},
   "outputs": [
    {
     "data": {
      "text/html": [
       "<div>\n",
       "<style scoped>\n",
       "    .dataframe tbody tr th:only-of-type {\n",
       "        vertical-align: middle;\n",
       "    }\n",
       "\n",
       "    .dataframe tbody tr th {\n",
       "        vertical-align: top;\n",
       "    }\n",
       "\n",
       "    .dataframe thead th {\n",
       "        text-align: right;\n",
       "    }\n",
       "</style>\n",
       "<table border=\"1\" class=\"dataframe\">\n",
       "  <thead>\n",
       "    <tr style=\"text-align: right;\">\n",
       "      <th></th>\n",
       "      <th>Unnamed: 0</th>\n",
       "      <th>person</th>\n",
       "      <th>received</th>\n",
       "      <th>received time</th>\n",
       "      <th>offer_id</th>\n",
       "      <th>viewed</th>\n",
       "      <th>viewed time</th>\n",
       "      <th>completed</th>\n",
       "      <th>completed time</th>\n",
       "      <th>reward</th>\n",
       "      <th>transaction</th>\n",
       "      <th>transaction time</th>\n",
       "      <th>amount</th>\n",
       "    </tr>\n",
       "  </thead>\n",
       "  <tbody>\n",
       "    <tr>\n",
       "      <th>0</th>\n",
       "      <td>0</td>\n",
       "      <td>78afa995795e4d85b5d9ceeca43f5fef</td>\n",
       "      <td>1</td>\n",
       "      <td>0</td>\n",
       "      <td>9b98b8c7a33c4b65b9aebfe6a799e6d9</td>\n",
       "      <td>1</td>\n",
       "      <td>6.0</td>\n",
       "      <td>1</td>\n",
       "      <td>132.0</td>\n",
       "      <td>5.0</td>\n",
       "      <td>1</td>\n",
       "      <td>132.0</td>\n",
       "      <td>19.89</td>\n",
       "    </tr>\n",
       "    <tr>\n",
       "      <th>1</th>\n",
       "      <td>1</td>\n",
       "      <td>a03223e636434f42ac4c3df47e8bac43</td>\n",
       "      <td>1</td>\n",
       "      <td>0</td>\n",
       "      <td>0b1e1539f2cc45b7b9fa7c272da2e1d7</td>\n",
       "      <td>1</td>\n",
       "      <td>6.0</td>\n",
       "      <td>0</td>\n",
       "      <td>NaN</td>\n",
       "      <td>NaN</td>\n",
       "      <td>0</td>\n",
       "      <td>NaN</td>\n",
       "      <td>NaN</td>\n",
       "    </tr>\n",
       "    <tr>\n",
       "      <th>2</th>\n",
       "      <td>2</td>\n",
       "      <td>a03223e636434f42ac4c3df47e8bac43</td>\n",
       "      <td>1</td>\n",
       "      <td>0</td>\n",
       "      <td>0b1e1539f2cc45b7b9fa7c272da2e1d7</td>\n",
       "      <td>1</td>\n",
       "      <td>624.0</td>\n",
       "      <td>0</td>\n",
       "      <td>NaN</td>\n",
       "      <td>NaN</td>\n",
       "      <td>0</td>\n",
       "      <td>NaN</td>\n",
       "      <td>NaN</td>\n",
       "    </tr>\n",
       "    <tr>\n",
       "      <th>3</th>\n",
       "      <td>3</td>\n",
       "      <td>e2127556f4f64592b11af22de27a7932</td>\n",
       "      <td>1</td>\n",
       "      <td>0</td>\n",
       "      <td>2906b810c7d4411798c6938adc9daaa5</td>\n",
       "      <td>1</td>\n",
       "      <td>18.0</td>\n",
       "      <td>0</td>\n",
       "      <td>NaN</td>\n",
       "      <td>NaN</td>\n",
       "      <td>0</td>\n",
       "      <td>NaN</td>\n",
       "      <td>NaN</td>\n",
       "    </tr>\n",
       "    <tr>\n",
       "      <th>4</th>\n",
       "      <td>4</td>\n",
       "      <td>8ec6ce2a7e7949b1bf142def7d0e0586</td>\n",
       "      <td>1</td>\n",
       "      <td>0</td>\n",
       "      <td>fafdcd668e3743c1bb461111dcafc2a4</td>\n",
       "      <td>1</td>\n",
       "      <td>12.0</td>\n",
       "      <td>0</td>\n",
       "      <td>NaN</td>\n",
       "      <td>NaN</td>\n",
       "      <td>0</td>\n",
       "      <td>NaN</td>\n",
       "      <td>NaN</td>\n",
       "    </tr>\n",
       "  </tbody>\n",
       "</table>\n",
       "</div>"
      ],
      "text/plain": [
       "   Unnamed: 0                            person  received  received time  \\\n",
       "0           0  78afa995795e4d85b5d9ceeca43f5fef         1              0   \n",
       "1           1  a03223e636434f42ac4c3df47e8bac43         1              0   \n",
       "2           2  a03223e636434f42ac4c3df47e8bac43         1              0   \n",
       "3           3  e2127556f4f64592b11af22de27a7932         1              0   \n",
       "4           4  8ec6ce2a7e7949b1bf142def7d0e0586         1              0   \n",
       "\n",
       "                           offer_id  viewed  viewed time  completed  \\\n",
       "0  9b98b8c7a33c4b65b9aebfe6a799e6d9       1          6.0          1   \n",
       "1  0b1e1539f2cc45b7b9fa7c272da2e1d7       1          6.0          0   \n",
       "2  0b1e1539f2cc45b7b9fa7c272da2e1d7       1        624.0          0   \n",
       "3  2906b810c7d4411798c6938adc9daaa5       1         18.0          0   \n",
       "4  fafdcd668e3743c1bb461111dcafc2a4       1         12.0          0   \n",
       "\n",
       "   completed time  reward  transaction  transaction time  amount  \n",
       "0           132.0     5.0            1             132.0   19.89  \n",
       "1             NaN     NaN            0               NaN     NaN  \n",
       "2             NaN     NaN            0               NaN     NaN  \n",
       "3             NaN     NaN            0               NaN     NaN  \n",
       "4             NaN     NaN            0               NaN     NaN  "
      ]
     },
     "execution_count": 6,
     "metadata": {},
     "output_type": "execute_result"
    }
   ],
   "source": [
    "offers.head()"
   ]
  },
  {
   "cell_type": "code",
   "execution_count": 9,
   "metadata": {},
   "outputs": [],
   "source": [
    "query = \"\"\"\n",
    "SELECT person, IFNULL(SUM(viewed), 0) as total_offer_views, IFNULL(SUM(completed), 0) as total_completed_offers, \n",
    "IFNULL(SUM(reward), 0) as total_rewards_received, IFNULL(AVG(amount), 0) as average_offer_payment\n",
    "FROM offers\n",
    "GROUP BY person\n",
    "\"\"\"\n",
    "\n",
    "offer_rollup = ps.sqldf(query = query)"
   ]
  },
  {
   "cell_type": "markdown",
   "metadata": {},
   "source": [
    "## Transaction Queries"
   ]
  },
  {
   "cell_type": "code",
   "execution_count": 10,
   "metadata": {},
   "outputs": [],
   "source": [
    "transactions = pd.read_csv(\"transactions_transformed.csv\")"
   ]
  },
  {
   "cell_type": "code",
   "execution_count": 31,
   "metadata": {},
   "outputs": [],
   "source": [
    "num_transactions = transactions.groupby(by = 'person').sum()[['transaction']].reset_index().rename({'transaction':'number_of_transactions'}, axis = 1)"
   ]
  },
  {
   "cell_type": "code",
   "execution_count": 12,
   "metadata": {},
   "outputs": [],
   "source": [
    "query = \"\"\"\n",
    "SELECT person, IFNULL(AVG(amount), 0) as average_transaction_amount\n",
    "FROM transactions\n",
    "GROUP BY person\n",
    "\"\"\"\n",
    "average_transactions = ps.sqldf(query = query)"
   ]
  },
  {
   "cell_type": "markdown",
   "metadata": {},
   "source": [
    "## Join Data Together"
   ]
  },
  {
   "cell_type": "code",
   "execution_count": 44,
   "metadata": {},
   "outputs": [],
   "source": [
    "query = \"\"\"\n",
    "SELECT t1.person as person_id, * \n",
    "FROM offer_rollup t1 JOIN num_transactions t2 on t1.person = t2.person \n",
    "JOIN average_transactions t3 ON t1.person = t3.person\n",
    "\"\"\"\n",
    "\n",
    "full_profile_clustering = ps.sqldf(query = query)"
   ]
  },
  {
   "cell_type": "code",
   "execution_count": 46,
   "metadata": {},
   "outputs": [],
   "source": [
    "full_profile_clustering.drop(columns = 'person', inplace = True)"
   ]
  },
  {
   "cell_type": "markdown",
   "metadata": {},
   "source": [
    "## Checking Correlation"
   ]
  },
  {
   "cell_type": "code",
   "execution_count": 48,
   "metadata": {},
   "outputs": [
    {
     "data": {
      "text/html": [
       "<div>\n",
       "<style scoped>\n",
       "    .dataframe tbody tr th:only-of-type {\n",
       "        vertical-align: middle;\n",
       "    }\n",
       "\n",
       "    .dataframe tbody tr th {\n",
       "        vertical-align: top;\n",
       "    }\n",
       "\n",
       "    .dataframe thead th {\n",
       "        text-align: right;\n",
       "    }\n",
       "</style>\n",
       "<table border=\"1\" class=\"dataframe\">\n",
       "  <thead>\n",
       "    <tr style=\"text-align: right;\">\n",
       "      <th></th>\n",
       "      <th>total_offer_views</th>\n",
       "      <th>total_completed_offers</th>\n",
       "      <th>total_rewards_received</th>\n",
       "      <th>average_offer_payment</th>\n",
       "      <th>number_of_transactions</th>\n",
       "      <th>average_transaction_amount</th>\n",
       "    </tr>\n",
       "  </thead>\n",
       "  <tbody>\n",
       "    <tr>\n",
       "      <th>total_offer_views</th>\n",
       "      <td>1.000000</td>\n",
       "      <td>0.884072</td>\n",
       "      <td>0.741315</td>\n",
       "      <td>0.072778</td>\n",
       "      <td>0.710665</td>\n",
       "      <td>0.112218</td>\n",
       "    </tr>\n",
       "    <tr>\n",
       "      <th>total_completed_offers</th>\n",
       "      <td>0.884072</td>\n",
       "      <td>1.000000</td>\n",
       "      <td>0.842742</td>\n",
       "      <td>0.165653</td>\n",
       "      <td>0.790618</td>\n",
       "      <td>0.214658</td>\n",
       "    </tr>\n",
       "    <tr>\n",
       "      <th>total_rewards_received</th>\n",
       "      <td>0.741315</td>\n",
       "      <td>0.842742</td>\n",
       "      <td>1.000000</td>\n",
       "      <td>0.153502</td>\n",
       "      <td>0.645227</td>\n",
       "      <td>0.203849</td>\n",
       "    </tr>\n",
       "    <tr>\n",
       "      <th>average_offer_payment</th>\n",
       "      <td>0.072778</td>\n",
       "      <td>0.165653</td>\n",
       "      <td>0.153502</td>\n",
       "      <td>1.000000</td>\n",
       "      <td>0.073094</td>\n",
       "      <td>0.752698</td>\n",
       "    </tr>\n",
       "    <tr>\n",
       "      <th>number_of_transactions</th>\n",
       "      <td>0.710665</td>\n",
       "      <td>0.790618</td>\n",
       "      <td>0.645227</td>\n",
       "      <td>0.073094</td>\n",
       "      <td>1.000000</td>\n",
       "      <td>0.038310</td>\n",
       "    </tr>\n",
       "    <tr>\n",
       "      <th>average_transaction_amount</th>\n",
       "      <td>0.112218</td>\n",
       "      <td>0.214658</td>\n",
       "      <td>0.203849</td>\n",
       "      <td>0.752698</td>\n",
       "      <td>0.038310</td>\n",
       "      <td>1.000000</td>\n",
       "    </tr>\n",
       "  </tbody>\n",
       "</table>\n",
       "</div>"
      ],
      "text/plain": [
       "                            total_offer_views  total_completed_offers  \\\n",
       "total_offer_views                    1.000000                0.884072   \n",
       "total_completed_offers               0.884072                1.000000   \n",
       "total_rewards_received               0.741315                0.842742   \n",
       "average_offer_payment                0.072778                0.165653   \n",
       "number_of_transactions               0.710665                0.790618   \n",
       "average_transaction_amount           0.112218                0.214658   \n",
       "\n",
       "                            total_rewards_received  average_offer_payment  \\\n",
       "total_offer_views                         0.741315               0.072778   \n",
       "total_completed_offers                    0.842742               0.165653   \n",
       "total_rewards_received                    1.000000               0.153502   \n",
       "average_offer_payment                     0.153502               1.000000   \n",
       "number_of_transactions                    0.645227               0.073094   \n",
       "average_transaction_amount                0.203849               0.752698   \n",
       "\n",
       "                            number_of_transactions  average_transaction_amount  \n",
       "total_offer_views                         0.710665                    0.112218  \n",
       "total_completed_offers                    0.790618                    0.214658  \n",
       "total_rewards_received                    0.645227                    0.203849  \n",
       "average_offer_payment                     0.073094                    0.752698  \n",
       "number_of_transactions                    1.000000                    0.038310  \n",
       "average_transaction_amount                0.038310                    1.000000  "
      ]
     },
     "execution_count": 48,
     "metadata": {},
     "output_type": "execute_result"
    }
   ],
   "source": [
    "# check for correlations briefly\n",
    "full_profile_clustering.corr()"
   ]
  },
  {
   "cell_type": "markdown",
   "metadata": {},
   "source": [
    "## Export Data"
   ]
  },
  {
   "cell_type": "code",
   "execution_count": 52,
   "metadata": {},
   "outputs": [],
   "source": [
    "full_profile_clustering.to_csv('user_activity_rollup.csv', index = False)"
   ]
  },
  {
   "cell_type": "markdown",
   "metadata": {},
   "source": [
    "## KMeans Clustering"
   ]
  },
  {
   "cell_type": "code",
   "execution_count": 20,
   "metadata": {},
   "outputs": [],
   "source": [
    "import pandas as pd\n",
    "import numpy as np\n",
    "import matplotlib.pyplot as plt\n",
    "\n",
    "#bring in rolled up data by person id\n",
    "cluster_data = pd.read_csv(\"user_activity_rollup.csv\")"
   ]
  },
  {
   "cell_type": "code",
   "execution_count": 9,
   "metadata": {},
   "outputs": [
    {
     "data": {
      "text/html": [
       "<div>\n",
       "<style scoped>\n",
       "    .dataframe tbody tr th:only-of-type {\n",
       "        vertical-align: middle;\n",
       "    }\n",
       "\n",
       "    .dataframe tbody tr th {\n",
       "        vertical-align: top;\n",
       "    }\n",
       "\n",
       "    .dataframe thead th {\n",
       "        text-align: right;\n",
       "    }\n",
       "</style>\n",
       "<table border=\"1\" class=\"dataframe\">\n",
       "  <thead>\n",
       "    <tr style=\"text-align: right;\">\n",
       "      <th></th>\n",
       "      <th>person_id</th>\n",
       "      <th>total_offer_views</th>\n",
       "      <th>total_completed_offers</th>\n",
       "      <th>total_rewards_received</th>\n",
       "      <th>average_offer_payment</th>\n",
       "      <th>number_of_transactions</th>\n",
       "      <th>average_transaction_amount</th>\n",
       "    </tr>\n",
       "  </thead>\n",
       "  <tbody>\n",
       "    <tr>\n",
       "      <th>0</th>\n",
       "      <td>0009655768c64bdeb2e877511632db8f</td>\n",
       "      <td>4</td>\n",
       "      <td>3</td>\n",
       "      <td>9.0</td>\n",
       "      <td>10.983333</td>\n",
       "      <td>8</td>\n",
       "      <td>15.950000</td>\n",
       "    </tr>\n",
       "    <tr>\n",
       "      <th>1</th>\n",
       "      <td>00116118485d4dfda04fdbaba9a87b5c</td>\n",
       "      <td>4</td>\n",
       "      <td>0</td>\n",
       "      <td>0.0</td>\n",
       "      <td>0.000000</td>\n",
       "      <td>3</td>\n",
       "      <td>1.363333</td>\n",
       "    </tr>\n",
       "    <tr>\n",
       "      <th>2</th>\n",
       "      <td>0011e0d4e6b944f998e987f904e8c1e5</td>\n",
       "      <td>5</td>\n",
       "      <td>3</td>\n",
       "      <td>13.0</td>\n",
       "      <td>18.676667</td>\n",
       "      <td>6</td>\n",
       "      <td>16.918333</td>\n",
       "    </tr>\n",
       "    <tr>\n",
       "      <th>3</th>\n",
       "      <td>0020c2b971eb4e9188eac86d93036a77</td>\n",
       "      <td>6</td>\n",
       "      <td>5</td>\n",
       "      <td>18.0</td>\n",
       "      <td>17.396000</td>\n",
       "      <td>11</td>\n",
       "      <td>22.633636</td>\n",
       "    </tr>\n",
       "    <tr>\n",
       "      <th>4</th>\n",
       "      <td>0020ccbbb6d84e358d3414a3ff76cffd</td>\n",
       "      <td>4</td>\n",
       "      <td>3</td>\n",
       "      <td>13.0</td>\n",
       "      <td>12.166667</td>\n",
       "      <td>12</td>\n",
       "      <td>12.837500</td>\n",
       "    </tr>\n",
       "  </tbody>\n",
       "</table>\n",
       "</div>"
      ],
      "text/plain": [
       "                          person_id  total_offer_views  \\\n",
       "0  0009655768c64bdeb2e877511632db8f                  4   \n",
       "1  00116118485d4dfda04fdbaba9a87b5c                  4   \n",
       "2  0011e0d4e6b944f998e987f904e8c1e5                  5   \n",
       "3  0020c2b971eb4e9188eac86d93036a77                  6   \n",
       "4  0020ccbbb6d84e358d3414a3ff76cffd                  4   \n",
       "\n",
       "   total_completed_offers  total_rewards_received  average_offer_payment  \\\n",
       "0                       3                     9.0              10.983333   \n",
       "1                       0                     0.0               0.000000   \n",
       "2                       3                    13.0              18.676667   \n",
       "3                       5                    18.0              17.396000   \n",
       "4                       3                    13.0              12.166667   \n",
       "\n",
       "   number_of_transactions  average_transaction_amount  \n",
       "0                       8                   15.950000  \n",
       "1                       3                    1.363333  \n",
       "2                       6                   16.918333  \n",
       "3                      11                   22.633636  \n",
       "4                      12                   12.837500  "
      ]
     },
     "execution_count": 9,
     "metadata": {},
     "output_type": "execute_result"
    }
   ],
   "source": [
    "cluster_data.head()"
   ]
  },
  {
   "cell_type": "code",
   "execution_count": 6,
   "metadata": {},
   "outputs": [
    {
     "data": {
      "text/html": [
       "<div>\n",
       "<style scoped>\n",
       "    .dataframe tbody tr th:only-of-type {\n",
       "        vertical-align: middle;\n",
       "    }\n",
       "\n",
       "    .dataframe tbody tr th {\n",
       "        vertical-align: top;\n",
       "    }\n",
       "\n",
       "    .dataframe thead th {\n",
       "        text-align: right;\n",
       "    }\n",
       "</style>\n",
       "<table border=\"1\" class=\"dataframe\">\n",
       "  <thead>\n",
       "    <tr style=\"text-align: right;\">\n",
       "      <th></th>\n",
       "      <th>total_offer_views</th>\n",
       "      <th>total_completed_offers</th>\n",
       "      <th>total_rewards_received</th>\n",
       "      <th>average_offer_payment</th>\n",
       "      <th>number_of_transactions</th>\n",
       "      <th>average_transaction_amount</th>\n",
       "    </tr>\n",
       "  </thead>\n",
       "  <tbody>\n",
       "    <tr>\n",
       "      <th>count</th>\n",
       "      <td>16572.000000</td>\n",
       "      <td>16572.000000</td>\n",
       "      <td>16572.000000</td>\n",
       "      <td>16572.000000</td>\n",
       "      <td>16572.000000</td>\n",
       "      <td>16572.000000</td>\n",
       "    </tr>\n",
       "    <tr>\n",
       "      <th>mean</th>\n",
       "      <td>5.847152</td>\n",
       "      <td>4.066920</td>\n",
       "      <td>20.093230</td>\n",
       "      <td>14.697263</td>\n",
       "      <td>10.603005</td>\n",
       "      <td>13.976243</td>\n",
       "    </tr>\n",
       "    <tr>\n",
       "      <th>std</th>\n",
       "      <td>5.067047</td>\n",
       "      <td>5.434291</td>\n",
       "      <td>32.699255</td>\n",
       "      <td>26.159824</td>\n",
       "      <td>7.428972</td>\n",
       "      <td>17.716807</td>\n",
       "    </tr>\n",
       "    <tr>\n",
       "      <th>min</th>\n",
       "      <td>0.000000</td>\n",
       "      <td>0.000000</td>\n",
       "      <td>0.000000</td>\n",
       "      <td>0.000000</td>\n",
       "      <td>1.000000</td>\n",
       "      <td>0.050000</td>\n",
       "    </tr>\n",
       "    <tr>\n",
       "      <th>25%</th>\n",
       "      <td>3.000000</td>\n",
       "      <td>1.000000</td>\n",
       "      <td>2.000000</td>\n",
       "      <td>2.790000</td>\n",
       "      <td>5.000000</td>\n",
       "      <td>3.313000</td>\n",
       "    </tr>\n",
       "    <tr>\n",
       "      <th>50%</th>\n",
       "      <td>4.000000</td>\n",
       "      <td>2.000000</td>\n",
       "      <td>10.000000</td>\n",
       "      <td>12.453750</td>\n",
       "      <td>9.000000</td>\n",
       "      <td>12.320909</td>\n",
       "    </tr>\n",
       "    <tr>\n",
       "      <th>75%</th>\n",
       "      <td>7.000000</td>\n",
       "      <td>5.000000</td>\n",
       "      <td>24.000000</td>\n",
       "      <td>20.570833</td>\n",
       "      <td>14.000000</td>\n",
       "      <td>20.551259</td>\n",
       "    </tr>\n",
       "    <tr>\n",
       "      <th>max</th>\n",
       "      <td>75.000000</td>\n",
       "      <td>75.000000</td>\n",
       "      <td>660.000000</td>\n",
       "      <td>1015.730000</td>\n",
       "      <td>88.000000</td>\n",
       "      <td>533.606154</td>\n",
       "    </tr>\n",
       "  </tbody>\n",
       "</table>\n",
       "</div>"
      ],
      "text/plain": [
       "       total_offer_views  total_completed_offers  total_rewards_received  \\\n",
       "count       16572.000000            16572.000000            16572.000000   \n",
       "mean            5.847152                4.066920               20.093230   \n",
       "std             5.067047                5.434291               32.699255   \n",
       "min             0.000000                0.000000                0.000000   \n",
       "25%             3.000000                1.000000                2.000000   \n",
       "50%             4.000000                2.000000               10.000000   \n",
       "75%             7.000000                5.000000               24.000000   \n",
       "max            75.000000               75.000000              660.000000   \n",
       "\n",
       "       average_offer_payment  number_of_transactions  \\\n",
       "count           16572.000000            16572.000000   \n",
       "mean               14.697263               10.603005   \n",
       "std                26.159824                7.428972   \n",
       "min                 0.000000                1.000000   \n",
       "25%                 2.790000                5.000000   \n",
       "50%                12.453750                9.000000   \n",
       "75%                20.570833               14.000000   \n",
       "max              1015.730000               88.000000   \n",
       "\n",
       "       average_transaction_amount  \n",
       "count                16572.000000  \n",
       "mean                    13.976243  \n",
       "std                     17.716807  \n",
       "min                      0.050000  \n",
       "25%                      3.313000  \n",
       "50%                     12.320909  \n",
       "75%                     20.551259  \n",
       "max                    533.606154  "
      ]
     },
     "execution_count": 6,
     "metadata": {},
     "output_type": "execute_result"
    }
   ],
   "source": [
    "cluster_data.describe()"
   ]
  },
  {
   "cell_type": "code",
   "execution_count": 10,
   "metadata": {},
   "outputs": [],
   "source": [
    "from sklearn.cluster import KMeans\n",
    "from sklearn.model_selection import train_test_split\n",
    "\n",
    "#Split data into train and test for clustering\n",
    "X = cluster_data.drop(columns = \"person_id\")\n",
    "y = cluster_data[\"person_id\"]\n",
    "\n",
    "#X_train, X_valid, y_train, y_valid = train_test_split(X, y, test_size = .2, random_state = 1)"
   ]
  },
  {
   "cell_type": "code",
   "execution_count": 41,
   "metadata": {},
   "outputs": [],
   "source": [
    "#Performing kmeans and attempting different numbers of clusters\n",
    "\n",
    "kmeans_per_k = [KMeans(n_clusters=k, random_state=42).fit(X)\n",
    "                for k in range(1, 12)]"
   ]
  },
  {
   "cell_type": "code",
   "execution_count": 42,
   "metadata": {},
   "outputs": [],
   "source": [
    "from sklearn.metrics import silhouette_score\n",
    "\n",
    "silhouette_scores = [silhouette_score(X, model.labels_)\n",
    "                     for model in kmeans_per_k[1:]]"
   ]
  },
  {
   "cell_type": "code",
   "execution_count": 46,
   "metadata": {},
   "outputs": [
    {
     "data": {
      "image/png": "[encoded data removed]",
      "text/plain": [
       "<Figure size 576x216 with 1 Axes>"
      ]
     },
     "metadata": {
      "needs_background": "light"
     },
     "output_type": "display_data"
    }
   ],
   "source": [
    "#Plotting the scores for each number of calculated Kmeans clusters\n",
    "\n",
    "plt.figure(figsize=(8, 3))\n",
    "plt.plot(range(1, 11), silhouette_scores, \"bo-\")\n",
    "plt.xlabel(\"$k$\", fontsize=14)\n",
    "plt.ylabel(\"Silhouette score\", fontsize=14)\n",
    "plt.axis([0, 12, 0.2, .8])\n",
    "#save_fig(\"silhouette_score_vs_k_plot\")\n",
    "plt.show()"
   ]
  },
  {
   "cell_type": "code",
   "execution_count": 47,
   "metadata": {},
   "outputs": [
    {
     "name": "stdout",
     "output_type": "stream",
     "text": [
      "[36089301.42976263, 25036519.448413827, 17101502.754227713, 13000926.699383346, 10002075.32737758, 8465903.199089212, 7206559.94732892, 6396536.362716703, 5884194.08113364, 5191938.905362511, 4656316.060083777]\n"
     ]
    }
   ],
   "source": [
    "inertias = [model.inertia_ for model in kmeans_per_k]\n",
    "\n",
    "print(inertias)"
   ]
  },
  {
   "cell_type": "code",
   "execution_count": 53,
   "metadata": {},
   "outputs": [
    {
     "data": {
      "image/png": "[encoded data removed]",
      "text/plain": [
       "<Figure size 576x252 with 1 Axes>"
      ]
     },
     "metadata": {
      "needs_background": "light"
     },
     "output_type": "display_data"
    }
   ],
   "source": [
    "plt.figure(figsize=(8, 3.5))\n",
    "plt.plot(range(1, 12), inertias, \"bo-\")\n",
    "plt.xlabel(\"$k$\", fontsize=14)\n",
    "plt.ylabel(\"Inertia\", fontsize=14)\n",
    "plt.axis([0, 12, 1000000, 40000000])\n",
    "#save_fig(\"inertia_vs_k_plot\")\n",
    "plt.show()"
   ]
  },
  {
   "cell_type": "markdown",
   "metadata": {},
   "source": [
    "Based on the inertia and the the silhouette scores of the different number of clusters, the best number of clusters is 2 or 3 clusters. 2 clusters have the largest silhouette score (not counting 1), and 3 is the elbow point of the models inertia and also has a higher silhouette score."
   ]
  },
  {
   "cell_type": "markdown",
   "metadata": {},
   "source": [
    "## Standardization of clusters"
   ]
  },
  {
   "cell_type": "code",
   "execution_count": 60,
   "metadata": {},
   "outputs": [],
   "source": [
    "from sklearn.preprocessing import StandardScaler\n",
    "from pandas.plotting import scatter_matrix\n",
    "\n",
    "scaler = StandardScaler()\n",
    "scaled_model = scaler.fit_transform(X)\n"
   ]
  },
  {
   "cell_type": "code",
   "execution_count": 118,
   "metadata": {},
   "outputs": [
    {
     "ename": "AttributeError",
     "evalue": "'numpy.ndarray' object has no attribute 'columns'",
     "output_type": "error",
     "traceback": [
      "\u001b[1;31m---------------------------------------------------------------------------\u001b[0m",
      "\u001b[1;31mAttributeError\u001b[0m                            Traceback (most recent call last)",
      "\u001b[1;32m<ipython-input-118-5fc262267f67>\u001b[0m in \u001b[0;36m<module>\u001b[1;34m\u001b[0m\n\u001b[1;32m----> 1\u001b[1;33m \u001b[0mcolumns\u001b[0m \u001b[1;33m=\u001b[0m \u001b[0mscaled_model\u001b[0m\u001b[1;33m.\u001b[0m\u001b[0mcolumns\u001b[0m\u001b[1;33m\u001b[0m\u001b[1;33m\u001b[0m\u001b[0m\n\u001b[0m\u001b[0;32m      2\u001b[0m \u001b[0mcolumns\u001b[0m\u001b[1;33m\u001b[0m\u001b[1;33m\u001b[0m\u001b[0m\n\u001b[0;32m      3\u001b[0m \u001b[1;33m\u001b[0m\u001b[0m\n\u001b[0;32m      4\u001b[0m \u001b[0mlog_transform\u001b[0m \u001b[1;33m=\u001b[0m \u001b[1;33m[\u001b[0m\u001b[0mnp\u001b[0m\u001b[1;33m.\u001b[0m\u001b[0mlog\u001b[0m\u001b[1;33m(\u001b[0m\u001b[0mscaled_model\u001b[0m\u001b[1;33m[\u001b[0m\u001b[1;34m\"{}\"\u001b[0m\u001b[1;33m.\u001b[0m\u001b[0mformat\u001b[0m\u001b[1;33m(\u001b[0m\u001b[0mname\u001b[0m\u001b[1;33m)\u001b[0m\u001b[1;33m]\u001b[0m\u001b[1;33m)\u001b[0m \u001b[1;32mfor\u001b[0m \u001b[0mname\u001b[0m \u001b[1;32min\u001b[0m \u001b[0mcolumns\u001b[0m\u001b[1;33m]\u001b[0m\u001b[1;33m\u001b[0m\u001b[1;33m\u001b[0m\u001b[0m\n\u001b[0;32m      5\u001b[0m \u001b[1;31m#df['logStreams'] = np.log10(df['Streams'])\u001b[0m\u001b[1;33m\u001b[0m\u001b[1;33m\u001b[0m\u001b[1;33m\u001b[0m\u001b[0m\n",
      "\u001b[1;31mAttributeError\u001b[0m: 'numpy.ndarray' object has no attribute 'columns'"
     ]
    }
   ],
   "source": [
    "columns = scaled_model.columns\n",
    "columns\n",
    "\n",
    "log_transform = [np.log(scaled_model[\"{}\".format(name)]) for name in columns]\n",
    "#df['logStreams'] = np.log10(df['Streams'])"
   ]
  },
  {
   "cell_type": "code",
   "execution_count": 111,
   "metadata": {},
   "outputs": [
    {
     "data": {
      "text/html": [
       "<div>\n",
       "<style scoped>\n",
       "    .dataframe tbody tr th:only-of-type {\n",
       "        vertical-align: middle;\n",
       "    }\n",
       "\n",
       "    .dataframe tbody tr th {\n",
       "        vertical-align: top;\n",
       "    }\n",
       "\n",
       "    .dataframe thead th {\n",
       "        text-align: right;\n",
       "    }\n",
       "</style>\n",
       "<table border=\"1\" class=\"dataframe\">\n",
       "  <thead>\n",
       "    <tr style=\"text-align: right;\">\n",
       "      <th></th>\n",
       "      <th>total_offer_views</th>\n",
       "      <th>total_completed_offers</th>\n",
       "      <th>total_rewards_received</th>\n",
       "      <th>average_offer_payment</th>\n",
       "      <th>number_of_transactions</th>\n",
       "      <th>average_transaction_amount</th>\n",
       "    </tr>\n",
       "  </thead>\n",
       "  <tbody>\n",
       "    <tr>\n",
       "      <th>0</th>\n",
       "      <td>4</td>\n",
       "      <td>3</td>\n",
       "      <td>9.0</td>\n",
       "      <td>10.983333</td>\n",
       "      <td>8</td>\n",
       "      <td>15.950000</td>\n",
       "    </tr>\n",
       "    <tr>\n",
       "      <th>1</th>\n",
       "      <td>4</td>\n",
       "      <td>0</td>\n",
       "      <td>0.0</td>\n",
       "      <td>0.000000</td>\n",
       "      <td>3</td>\n",
       "      <td>1.363333</td>\n",
       "    </tr>\n",
       "    <tr>\n",
       "      <th>2</th>\n",
       "      <td>5</td>\n",
       "      <td>3</td>\n",
       "      <td>13.0</td>\n",
       "      <td>18.676667</td>\n",
       "      <td>6</td>\n",
       "      <td>16.918333</td>\n",
       "    </tr>\n",
       "    <tr>\n",
       "      <th>3</th>\n",
       "      <td>6</td>\n",
       "      <td>5</td>\n",
       "      <td>18.0</td>\n",
       "      <td>17.396000</td>\n",
       "      <td>11</td>\n",
       "      <td>22.633636</td>\n",
       "    </tr>\n",
       "    <tr>\n",
       "      <th>4</th>\n",
       "      <td>4</td>\n",
       "      <td>3</td>\n",
       "      <td>13.0</td>\n",
       "      <td>12.166667</td>\n",
       "      <td>12</td>\n",
       "      <td>12.837500</td>\n",
       "    </tr>\n",
       "  </tbody>\n",
       "</table>\n",
       "</div>"
      ],
      "text/plain": [
       "   total_offer_views  total_completed_offers  total_rewards_received  \\\n",
       "0                  4                       3                     9.0   \n",
       "1                  4                       0                     0.0   \n",
       "2                  5                       3                    13.0   \n",
       "3                  6                       5                    18.0   \n",
       "4                  4                       3                    13.0   \n",
       "\n",
       "   average_offer_payment  number_of_transactions  average_transaction_amount  \n",
       "0              10.983333                       8                   15.950000  \n",
       "1               0.000000                       3                    1.363333  \n",
       "2              18.676667                       6                   16.918333  \n",
       "3              17.396000                      11                   22.633636  \n",
       "4              12.166667                      12                   12.837500  "
      ]
     },
     "execution_count": 111,
     "metadata": {},
     "output_type": "execute_result"
    }
   ],
   "source": [
    "X.head()"
   ]
  },
  {
   "cell_type": "code",
   "execution_count": null,
   "metadata": {},
   "outputs": [],
   "source": []
  },
  {
   "cell_type": "code",
   "execution_count": 114,
   "metadata": {},
   "outputs": [],
   "source": [
    "log = pd.DataFrame(log_transform)\n",
    "log"
   ]
  },
  {
   "cell_type": "code",
   "execution_count": 96,
   "metadata": {},
   "outputs": [
    {
     "data": {
      "text/plain": [
       "array([[<AxesSubplot:xlabel='0', ylabel='0'>,\n",
       "        <AxesSubplot:xlabel='1', ylabel='0'>,\n",
       "        <AxesSubplot:xlabel='2', ylabel='0'>,\n",
       "        <AxesSubplot:xlabel='3', ylabel='0'>,\n",
       "        <AxesSubplot:xlabel='4', ylabel='0'>,\n",
       "        <AxesSubplot:xlabel='5', ylabel='0'>],\n",
       "       [<AxesSubplot:xlabel='0', ylabel='1'>,\n",
       "        <AxesSubplot:xlabel='1', ylabel='1'>,\n",
       "        <AxesSubplot:xlabel='2', ylabel='1'>,\n",
       "        <AxesSubplot:xlabel='3', ylabel='1'>,\n",
       "        <AxesSubplot:xlabel='4', ylabel='1'>,\n",
       "        <AxesSubplot:xlabel='5', ylabel='1'>],\n",
       "       [<AxesSubplot:xlabel='0', ylabel='2'>,\n",
       "        <AxesSubplot:xlabel='1', ylabel='2'>,\n",
       "        <AxesSubplot:xlabel='2', ylabel='2'>,\n",
       "        <AxesSubplot:xlabel='3', ylabel='2'>,\n",
       "        <AxesSubplot:xlabel='4', ylabel='2'>,\n",
       "        <AxesSubplot:xlabel='5', ylabel='2'>],\n",
       "       [<AxesSubplot:xlabel='0', ylabel='3'>,\n",
       "        <AxesSubplot:xlabel='1', ylabel='3'>,\n",
       "        <AxesSubplot:xlabel='2', ylabel='3'>,\n",
       "        <AxesSubplot:xlabel='3', ylabel='3'>,\n",
       "        <AxesSubplot:xlabel='4', ylabel='3'>,\n",
       "        <AxesSubplot:xlabel='5', ylabel='3'>],\n",
       "       [<AxesSubplot:xlabel='0', ylabel='4'>,\n",
       "        <AxesSubplot:xlabel='1', ylabel='4'>,\n",
       "        <AxesSubplot:xlabel='2', ylabel='4'>,\n",
       "        <AxesSubplot:xlabel='3', ylabel='4'>,\n",
       "        <AxesSubplot:xlabel='4', ylabel='4'>,\n",
       "        <AxesSubplot:xlabel='5', ylabel='4'>],\n",
       "       [<AxesSubplot:xlabel='0', ylabel='5'>,\n",
       "        <AxesSubplot:xlabel='1', ylabel='5'>,\n",
       "        <AxesSubplot:xlabel='2', ylabel='5'>,\n",
       "        <AxesSubplot:xlabel='3', ylabel='5'>,\n",
       "        <AxesSubplot:xlabel='4', ylabel='5'>,\n",
       "        <AxesSubplot:xlabel='5', ylabel='5'>]], dtype=object)"
      ]
     },
     "execution_count": 96,
     "metadata": {},
     "output_type": "execute_result"
    },
    {
     "data": {
      "image/png": "[encoded data removed]",
      "text/plain": [
       "<Figure size 720x720 with 36 Axes>"
      ]
     },
     "metadata": {
      "needs_background": "light"
     },
     "output_type": "display_data"
    }
   ],
   "source": [
    "\n",
    "scatter_matrix(pd.DataFrame(scaled_model), figsize = (10,10))"
   ]
  },
  {
   "cell_type": "code",
   "execution_count": 99,
   "metadata": {},
   "outputs": [
    {
     "data": {
      "text/html": [
       "<div>\n",
       "<style scoped>\n",
       "    .dataframe tbody tr th:only-of-type {\n",
       "        vertical-align: middle;\n",
       "    }\n",
       "\n",
       "    .dataframe tbody tr th {\n",
       "        vertical-align: top;\n",
       "    }\n",
       "\n",
       "    .dataframe thead th {\n",
       "        text-align: right;\n",
       "    }\n",
       "</style>\n",
       "<table border=\"1\" class=\"dataframe\">\n",
       "  <thead>\n",
       "    <tr style=\"text-align: right;\">\n",
       "      <th></th>\n",
       "      <th>0</th>\n",
       "      <th>1</th>\n",
       "      <th>2</th>\n",
       "      <th>3</th>\n",
       "      <th>4</th>\n",
       "      <th>5</th>\n",
       "    </tr>\n",
       "  </thead>\n",
       "  <tbody>\n",
       "    <tr>\n",
       "      <th>0</th>\n",
       "      <td>-0.364553</td>\n",
       "      <td>-0.196337</td>\n",
       "      <td>-0.339260</td>\n",
       "      <td>-0.141975</td>\n",
       "      <td>-0.350396</td>\n",
       "      <td>0.111409</td>\n",
       "    </tr>\n",
       "    <tr>\n",
       "      <th>1</th>\n",
       "      <td>-0.364553</td>\n",
       "      <td>-0.748404</td>\n",
       "      <td>-0.614504</td>\n",
       "      <td>-0.561843</td>\n",
       "      <td>-1.023457</td>\n",
       "      <td>-0.711939</td>\n",
       "    </tr>\n",
       "    <tr>\n",
       "      <th>2</th>\n",
       "      <td>-0.167194</td>\n",
       "      <td>-0.196337</td>\n",
       "      <td>-0.216930</td>\n",
       "      <td>0.152124</td>\n",
       "      <td>-0.619621</td>\n",
       "      <td>0.166067</td>\n",
       "    </tr>\n",
       "    <tr>\n",
       "      <th>3</th>\n",
       "      <td>0.030166</td>\n",
       "      <td>0.171707</td>\n",
       "      <td>-0.064017</td>\n",
       "      <td>0.103167</td>\n",
       "      <td>0.053440</td>\n",
       "      <td>0.488669</td>\n",
       "    </tr>\n",
       "    <tr>\n",
       "      <th>4</th>\n",
       "      <td>-0.364553</td>\n",
       "      <td>-0.196337</td>\n",
       "      <td>-0.216930</td>\n",
       "      <td>-0.096739</td>\n",
       "      <td>0.188053</td>\n",
       "      <td>-0.064277</td>\n",
       "    </tr>\n",
       "  </tbody>\n",
       "</table>\n",
       "</div>"
      ],
      "text/plain": [
       "          0         1         2         3         4         5\n",
       "0 -0.364553 -0.196337 -0.339260 -0.141975 -0.350396  0.111409\n",
       "1 -0.364553 -0.748404 -0.614504 -0.561843 -1.023457 -0.711939\n",
       "2 -0.167194 -0.196337 -0.216930  0.152124 -0.619621  0.166067\n",
       "3  0.030166  0.171707 -0.064017  0.103167  0.053440  0.488669\n",
       "4 -0.364553 -0.196337 -0.216930 -0.096739  0.188053 -0.064277"
      ]
     },
     "execution_count": 99,
     "metadata": {},
     "output_type": "execute_result"
    }
   ],
   "source": [
    "pd.DataFrame(scaled_model).head()"
   ]
  },
  {
   "cell_type": "code",
   "execution_count": 62,
   "metadata": {},
   "outputs": [],
   "source": [
    "#Performing kmeans and attempting different numbers of clusters\n",
    "\n",
    "kmeans_per_k = [KMeans(n_clusters=k, random_state=42).fit(scaled_model)\n",
    "                for k in range(1, 12)]"
   ]
  },
  {
   "cell_type": "code",
   "execution_count": 63,
   "metadata": {},
   "outputs": [],
   "source": [
    "from sklearn.metrics import silhouette_score\n",
    "\n",
    "silhouette_scores = [silhouette_score(scaled_model, model.labels_)\n",
    "                     for model in kmeans_per_k[1:]]"
   ]
  },
  {
   "cell_type": "code",
   "execution_count": 69,
   "metadata": {},
   "outputs": [
    {
     "data": {
      "image/png": "[encoded data removed]",
      "text/plain": [
       "<Figure size 576x216 with 1 Axes>"
      ]
     },
     "metadata": {
      "needs_background": "light"
     },
     "output_type": "display_data"
    }
   ],
   "source": [
    "#Plotting the scores for each number of calculated Kmeans clusters\n",
    "\n",
    "plt.figure(figsize=(8, 3))\n",
    "plt.plot(range(1, 11), silhouette_scores, \"bo-\")\n",
    "plt.xlabel(\"$k$\", fontsize=14)\n",
    "plt.ylabel(\"Silhouette score\", fontsize=14)\n",
    "plt.axis([0, 12, 0.2, .6])\n",
    "#save_fig(\"silhouette_score_vs_k_plot\")\n",
    "plt.show()"
   ]
  },
  {
   "cell_type": "code",
   "execution_count": 65,
   "metadata": {},
   "outputs": [
    {
     "name": "stdout",
     "output_type": "stream",
     "text": [
      "[99431.9999999998, 67362.07336987749, 51953.73991676984, 38921.176107175284, 33245.615993468266, 29856.930672350223, 26810.670150931608, 24025.207689676085, 22269.87473205905, 20903.64006936289, 19886.00482731248]\n"
     ]
    }
   ],
   "source": [
    "inertias = [model.inertia_ for model in kmeans_per_k]\n",
    "\n",
    "print(inertias)"
   ]
  },
  {
   "cell_type": "code",
   "execution_count": 68,
   "metadata": {},
   "outputs": [
    {
     "data": {
      "image/png": "[encoded data removed]",
      "text/plain": [
       "<Figure size 576x252 with 1 Axes>"
      ]
     },
     "metadata": {
      "needs_background": "light"
     },
     "output_type": "display_data"
    }
   ],
   "source": [
    "plt.figure(figsize=(8, 3.5))\n",
    "plt.plot(range(1, 12), inertias, \"bo-\")\n",
    "plt.xlabel(\"$k$\", fontsize=14)\n",
    "plt.ylabel(\"Inertia\", fontsize=14)\n",
    "plt.axis([0, 12, 10000, 110000])\n",
    "#save_fig(\"inertia_vs_k_plot\")\n",
    "plt.show()"
   ]
  },
  {
   "cell_type": "markdown",
   "metadata": {},
   "source": [
    "### Clustering results"
   ]
  },
  {
   "cell_type": "code",
   "execution_count": 70,
   "metadata": {},
   "outputs": [
    {
     "data": {
      "text/html": [
       "<div>\n",
       "<style scoped>\n",
       "    .dataframe tbody tr th:only-of-type {\n",
       "        vertical-align: middle;\n",
       "    }\n",
       "\n",
       "    .dataframe tbody tr th {\n",
       "        vertical-align: top;\n",
       "    }\n",
       "\n",
       "    .dataframe thead th {\n",
       "        text-align: right;\n",
       "    }\n",
       "</style>\n",
       "<table border=\"1\" class=\"dataframe\">\n",
       "  <thead>\n",
       "    <tr style=\"text-align: right;\">\n",
       "      <th></th>\n",
       "      <th>person_id</th>\n",
       "      <th>total_offer_views</th>\n",
       "      <th>total_completed_offers</th>\n",
       "      <th>total_rewards_received</th>\n",
       "      <th>average_offer_payment</th>\n",
       "      <th>number_of_transactions</th>\n",
       "      <th>average_transaction_amount</th>\n",
       "      <th>cluster_num</th>\n",
       "    </tr>\n",
       "  </thead>\n",
       "  <tbody>\n",
       "    <tr>\n",
       "      <th>0</th>\n",
       "      <td>0009655768c64bdeb2e877511632db8f</td>\n",
       "      <td>4</td>\n",
       "      <td>3</td>\n",
       "      <td>9.0</td>\n",
       "      <td>10.983333</td>\n",
       "      <td>8</td>\n",
       "      <td>15.950000</td>\n",
       "      <td>1</td>\n",
       "    </tr>\n",
       "    <tr>\n",
       "      <th>1</th>\n",
       "      <td>00116118485d4dfda04fdbaba9a87b5c</td>\n",
       "      <td>4</td>\n",
       "      <td>0</td>\n",
       "      <td>0.0</td>\n",
       "      <td>0.000000</td>\n",
       "      <td>3</td>\n",
       "      <td>1.363333</td>\n",
       "      <td>1</td>\n",
       "    </tr>\n",
       "    <tr>\n",
       "      <th>2</th>\n",
       "      <td>0011e0d4e6b944f998e987f904e8c1e5</td>\n",
       "      <td>5</td>\n",
       "      <td>3</td>\n",
       "      <td>13.0</td>\n",
       "      <td>18.676667</td>\n",
       "      <td>6</td>\n",
       "      <td>16.918333</td>\n",
       "      <td>1</td>\n",
       "    </tr>\n",
       "    <tr>\n",
       "      <th>3</th>\n",
       "      <td>0020c2b971eb4e9188eac86d93036a77</td>\n",
       "      <td>6</td>\n",
       "      <td>5</td>\n",
       "      <td>18.0</td>\n",
       "      <td>17.396000</td>\n",
       "      <td>11</td>\n",
       "      <td>22.633636</td>\n",
       "      <td>1</td>\n",
       "    </tr>\n",
       "    <tr>\n",
       "      <th>4</th>\n",
       "      <td>0020ccbbb6d84e358d3414a3ff76cffd</td>\n",
       "      <td>4</td>\n",
       "      <td>3</td>\n",
       "      <td>13.0</td>\n",
       "      <td>12.166667</td>\n",
       "      <td>12</td>\n",
       "      <td>12.837500</td>\n",
       "      <td>1</td>\n",
       "    </tr>\n",
       "  </tbody>\n",
       "</table>\n",
       "</div>"
      ],
      "text/plain": [
       "                          person_id  total_offer_views  \\\n",
       "0  0009655768c64bdeb2e877511632db8f                  4   \n",
       "1  00116118485d4dfda04fdbaba9a87b5c                  4   \n",
       "2  0011e0d4e6b944f998e987f904e8c1e5                  5   \n",
       "3  0020c2b971eb4e9188eac86d93036a77                  6   \n",
       "4  0020ccbbb6d84e358d3414a3ff76cffd                  4   \n",
       "\n",
       "   total_completed_offers  total_rewards_received  average_offer_payment  \\\n",
       "0                       3                     9.0              10.983333   \n",
       "1                       0                     0.0               0.000000   \n",
       "2                       3                    13.0              18.676667   \n",
       "3                       5                    18.0              17.396000   \n",
       "4                       3                    13.0              12.166667   \n",
       "\n",
       "   number_of_transactions  average_transaction_amount  cluster_num  \n",
       "0                       8                   15.950000            1  \n",
       "1                       3                    1.363333            1  \n",
       "2                       6                   16.918333            1  \n",
       "3                      11                   22.633636            1  \n",
       "4                      12                   12.837500            1  "
      ]
     },
     "execution_count": 70,
     "metadata": {},
     "output_type": "execute_result"
    }
   ],
   "source": [
    "kmeans2 = KMeans(n_clusters = 2)\n",
    "kmeans3 = KMeans(n_clusters = 3)\n",
    "\n",
    "kmeans2.fit_predict(scaled_model)\n",
    "kmeans3.fit_predict(scaled_model)\n",
    "\n",
    "labels2 = kmeans2.labels_\n",
    "labels3 = kmeans3.labels_\n",
    "\n",
    "cluster_data2 = cluster_data\n",
    "cluster_data2['cluster_num'] = labels2\n",
    "cluster_data2.head()\n"
   ]
  },
  {
   "cell_type": "code",
   "execution_count": 71,
   "metadata": {},
   "outputs": [
    {
     "data": {
      "text/html": [
       "<div>\n",
       "<style scoped>\n",
       "    .dataframe tbody tr th:only-of-type {\n",
       "        vertical-align: middle;\n",
       "    }\n",
       "\n",
       "    .dataframe tbody tr th {\n",
       "        vertical-align: top;\n",
       "    }\n",
       "\n",
       "    .dataframe thead th {\n",
       "        text-align: right;\n",
       "    }\n",
       "</style>\n",
       "<table border=\"1\" class=\"dataframe\">\n",
       "  <thead>\n",
       "    <tr style=\"text-align: right;\">\n",
       "      <th></th>\n",
       "      <th>total_offer_views</th>\n",
       "      <th>total_completed_offers</th>\n",
       "      <th>total_rewards_received</th>\n",
       "      <th>average_offer_payment</th>\n",
       "      <th>number_of_transactions</th>\n",
       "      <th>average_transaction_amount</th>\n",
       "    </tr>\n",
       "    <tr>\n",
       "      <th>cluster_num</th>\n",
       "      <th></th>\n",
       "      <th></th>\n",
       "      <th></th>\n",
       "      <th></th>\n",
       "      <th></th>\n",
       "      <th></th>\n",
       "    </tr>\n",
       "  </thead>\n",
       "  <tbody>\n",
       "    <tr>\n",
       "      <th>0</th>\n",
       "      <td>12.861799</td>\n",
       "      <td>12.348480</td>\n",
       "      <td>63.172987</td>\n",
       "      <td>26.336937</td>\n",
       "      <td>20.258853</td>\n",
       "      <td>22.880141</td>\n",
       "    </tr>\n",
       "    <tr>\n",
       "      <th>1</th>\n",
       "      <td>4.174352</td>\n",
       "      <td>2.091996</td>\n",
       "      <td>9.819894</td>\n",
       "      <td>11.921521</td>\n",
       "      <td>8.300351</td>\n",
       "      <td>11.852909</td>\n",
       "    </tr>\n",
       "  </tbody>\n",
       "</table>\n",
       "</div>"
      ],
      "text/plain": [
       "             total_offer_views  total_completed_offers  \\\n",
       "cluster_num                                              \n",
       "0                    12.861799               12.348480   \n",
       "1                     4.174352                2.091996   \n",
       "\n",
       "             total_rewards_received  average_offer_payment  \\\n",
       "cluster_num                                                  \n",
       "0                         63.172987              26.336937   \n",
       "1                          9.819894              11.921521   \n",
       "\n",
       "             number_of_transactions  average_transaction_amount  \n",
       "cluster_num                                                      \n",
       "0                         20.258853                   22.880141  \n",
       "1                          8.300351                   11.852909  "
      ]
     },
     "execution_count": 71,
     "metadata": {},
     "output_type": "execute_result"
    }
   ],
   "source": [
    "#Group by the clusters \n",
    "cluster_data2.groupby('cluster_num').mean()"
   ]
  },
  {
   "cell_type": "code",
   "execution_count": 72,
   "metadata": {},
   "outputs": [
    {
     "data": {
      "text/html": [
       "<div>\n",
       "<style scoped>\n",
       "    .dataframe tbody tr th:only-of-type {\n",
       "        vertical-align: middle;\n",
       "    }\n",
       "\n",
       "    .dataframe tbody tr th {\n",
       "        vertical-align: top;\n",
       "    }\n",
       "\n",
       "    .dataframe thead th {\n",
       "        text-align: right;\n",
       "    }\n",
       "</style>\n",
       "<table border=\"1\" class=\"dataframe\">\n",
       "  <thead>\n",
       "    <tr style=\"text-align: right;\">\n",
       "      <th></th>\n",
       "      <th>person_id</th>\n",
       "      <th>total_offer_views</th>\n",
       "      <th>total_completed_offers</th>\n",
       "      <th>total_rewards_received</th>\n",
       "      <th>average_offer_payment</th>\n",
       "      <th>number_of_transactions</th>\n",
       "      <th>average_transaction_amount</th>\n",
       "      <th>cluster_num</th>\n",
       "    </tr>\n",
       "  </thead>\n",
       "  <tbody>\n",
       "    <tr>\n",
       "      <th>0</th>\n",
       "      <td>0009655768c64bdeb2e877511632db8f</td>\n",
       "      <td>4</td>\n",
       "      <td>3</td>\n",
       "      <td>9.0</td>\n",
       "      <td>10.983333</td>\n",
       "      <td>8</td>\n",
       "      <td>15.950000</td>\n",
       "      <td>0</td>\n",
       "    </tr>\n",
       "    <tr>\n",
       "      <th>1</th>\n",
       "      <td>00116118485d4dfda04fdbaba9a87b5c</td>\n",
       "      <td>4</td>\n",
       "      <td>0</td>\n",
       "      <td>0.0</td>\n",
       "      <td>0.000000</td>\n",
       "      <td>3</td>\n",
       "      <td>1.363333</td>\n",
       "      <td>0</td>\n",
       "    </tr>\n",
       "    <tr>\n",
       "      <th>2</th>\n",
       "      <td>0011e0d4e6b944f998e987f904e8c1e5</td>\n",
       "      <td>5</td>\n",
       "      <td>3</td>\n",
       "      <td>13.0</td>\n",
       "      <td>18.676667</td>\n",
       "      <td>6</td>\n",
       "      <td>16.918333</td>\n",
       "      <td>0</td>\n",
       "    </tr>\n",
       "    <tr>\n",
       "      <th>3</th>\n",
       "      <td>0020c2b971eb4e9188eac86d93036a77</td>\n",
       "      <td>6</td>\n",
       "      <td>5</td>\n",
       "      <td>18.0</td>\n",
       "      <td>17.396000</td>\n",
       "      <td>11</td>\n",
       "      <td>22.633636</td>\n",
       "      <td>0</td>\n",
       "    </tr>\n",
       "    <tr>\n",
       "      <th>4</th>\n",
       "      <td>0020ccbbb6d84e358d3414a3ff76cffd</td>\n",
       "      <td>4</td>\n",
       "      <td>3</td>\n",
       "      <td>13.0</td>\n",
       "      <td>12.166667</td>\n",
       "      <td>12</td>\n",
       "      <td>12.837500</td>\n",
       "      <td>0</td>\n",
       "    </tr>\n",
       "  </tbody>\n",
       "</table>\n",
       "</div>"
      ],
      "text/plain": [
       "                          person_id  total_offer_views  \\\n",
       "0  0009655768c64bdeb2e877511632db8f                  4   \n",
       "1  00116118485d4dfda04fdbaba9a87b5c                  4   \n",
       "2  0011e0d4e6b944f998e987f904e8c1e5                  5   \n",
       "3  0020c2b971eb4e9188eac86d93036a77                  6   \n",
       "4  0020ccbbb6d84e358d3414a3ff76cffd                  4   \n",
       "\n",
       "   total_completed_offers  total_rewards_received  average_offer_payment  \\\n",
       "0                       3                     9.0              10.983333   \n",
       "1                       0                     0.0               0.000000   \n",
       "2                       3                    13.0              18.676667   \n",
       "3                       5                    18.0              17.396000   \n",
       "4                       3                    13.0              12.166667   \n",
       "\n",
       "   number_of_transactions  average_transaction_amount  cluster_num  \n",
       "0                       8                   15.950000            0  \n",
       "1                       3                    1.363333            0  \n",
       "2                       6                   16.918333            0  \n",
       "3                      11                   22.633636            0  \n",
       "4                      12                   12.837500            0  "
      ]
     },
     "execution_count": 72,
     "metadata": {},
     "output_type": "execute_result"
    }
   ],
   "source": [
    "cluster_data3 = cluster_data\n",
    "cluster_data3['cluster_num'] = labels3\n",
    "cluster_data3.head()"
   ]
  },
  {
   "cell_type": "code",
   "execution_count": 73,
   "metadata": {},
   "outputs": [
    {
     "data": {
      "text/html": [
       "<div>\n",
       "<style scoped>\n",
       "    .dataframe tbody tr th:only-of-type {\n",
       "        vertical-align: middle;\n",
       "    }\n",
       "\n",
       "    .dataframe tbody tr th {\n",
       "        vertical-align: top;\n",
       "    }\n",
       "\n",
       "    .dataframe thead th {\n",
       "        text-align: right;\n",
       "    }\n",
       "</style>\n",
       "<table border=\"1\" class=\"dataframe\">\n",
       "  <thead>\n",
       "    <tr style=\"text-align: right;\">\n",
       "      <th></th>\n",
       "      <th>total_offer_views</th>\n",
       "      <th>total_completed_offers</th>\n",
       "      <th>total_rewards_received</th>\n",
       "      <th>average_offer_payment</th>\n",
       "      <th>number_of_transactions</th>\n",
       "      <th>average_transaction_amount</th>\n",
       "    </tr>\n",
       "    <tr>\n",
       "      <th>cluster_num</th>\n",
       "      <th></th>\n",
       "      <th></th>\n",
       "      <th></th>\n",
       "      <th></th>\n",
       "      <th></th>\n",
       "      <th></th>\n",
       "    </tr>\n",
       "  </thead>\n",
       "  <tbody>\n",
       "    <tr>\n",
       "      <th>0</th>\n",
       "      <td>4.170342</td>\n",
       "      <td>2.090664</td>\n",
       "      <td>9.821212</td>\n",
       "      <td>12.055881</td>\n",
       "      <td>8.280215</td>\n",
       "      <td>11.979367</td>\n",
       "    </tr>\n",
       "    <tr>\n",
       "      <th>1</th>\n",
       "      <td>13.029553</td>\n",
       "      <td>12.505622</td>\n",
       "      <td>64.029875</td>\n",
       "      <td>18.989768</td>\n",
       "      <td>20.578220</td>\n",
       "      <td>18.237202</td>\n",
       "    </tr>\n",
       "    <tr>\n",
       "      <th>2</th>\n",
       "      <td>6.787500</td>\n",
       "      <td>6.200000</td>\n",
       "      <td>28.275000</td>\n",
       "      <td>289.403160</td>\n",
       "      <td>10.900000</td>\n",
       "      <td>182.124307</td>\n",
       "    </tr>\n",
       "  </tbody>\n",
       "</table>\n",
       "</div>"
      ],
      "text/plain": [
       "             total_offer_views  total_completed_offers  \\\n",
       "cluster_num                                              \n",
       "0                     4.170342                2.090664   \n",
       "1                    13.029553               12.505622   \n",
       "2                     6.787500                6.200000   \n",
       "\n",
       "             total_rewards_received  average_offer_payment  \\\n",
       "cluster_num                                                  \n",
       "0                          9.821212              12.055881   \n",
       "1                         64.029875              18.989768   \n",
       "2                         28.275000             289.403160   \n",
       "\n",
       "             number_of_transactions  average_transaction_amount  \n",
       "cluster_num                                                      \n",
       "0                          8.280215                   11.979367  \n",
       "1                         20.578220                   18.237202  \n",
       "2                         10.900000                  182.124307  "
      ]
     },
     "execution_count": 73,
     "metadata": {},
     "output_type": "execute_result"
    }
   ],
   "source": [
    "#Group by the clusters\n",
    "cluster_data3.groupby('cluster_num').mean()"
   ]
  },
  {
   "cell_type": "markdown",
   "metadata": {},
   "source": [
    "## Linear Discriminant Analysis"
   ]
  },
  {
   "cell_type": "markdown",
   "metadata": {},
   "source": [
    "Now we compute the linear discriminant analysis based off the clusters made previously"
   ]
  },
  {
   "cell_type": "code",
   "execution_count": 168,
   "metadata": {},
   "outputs": [
    {
     "data": {
      "text/html": [
       "<div>\n",
       "<style scoped>\n",
       "    .dataframe tbody tr th:only-of-type {\n",
       "        vertical-align: middle;\n",
       "    }\n",
       "\n",
       "    .dataframe tbody tr th {\n",
       "        vertical-align: top;\n",
       "    }\n",
       "\n",
       "    .dataframe thead th {\n",
       "        text-align: right;\n",
       "    }\n",
       "</style>\n",
       "<table border=\"1\" class=\"dataframe\">\n",
       "  <thead>\n",
       "    <tr style=\"text-align: right;\">\n",
       "      <th></th>\n",
       "      <th>gender</th>\n",
       "      <th>age</th>\n",
       "      <th>id</th>\n",
       "      <th>income</th>\n",
       "      <th>membership_length_days</th>\n",
       "    </tr>\n",
       "  </thead>\n",
       "  <tbody>\n",
       "    <tr>\n",
       "      <th>0</th>\n",
       "      <td>F</td>\n",
       "      <td>55</td>\n",
       "      <td>0610b486422d4921ae7d2bf64640c50b</td>\n",
       "      <td>112000.0</td>\n",
       "      <td>376</td>\n",
       "    </tr>\n",
       "    <tr>\n",
       "      <th>1</th>\n",
       "      <td>F</td>\n",
       "      <td>75</td>\n",
       "      <td>78afa995795e4d85b5d9ceeca43f5fef</td>\n",
       "      <td>100000.0</td>\n",
       "      <td>443</td>\n",
       "    </tr>\n",
       "    <tr>\n",
       "      <th>2</th>\n",
       "      <td>M</td>\n",
       "      <td>68</td>\n",
       "      <td>e2127556f4f64592b11af22de27a7932</td>\n",
       "      <td>70000.0</td>\n",
       "      <td>91</td>\n",
       "    </tr>\n",
       "    <tr>\n",
       "      <th>3</th>\n",
       "      <td>M</td>\n",
       "      <td>65</td>\n",
       "      <td>389bc3fa690240e798340f5a15918d5c</td>\n",
       "      <td>53000.0</td>\n",
       "      <td>167</td>\n",
       "    </tr>\n",
       "    <tr>\n",
       "      <th>4</th>\n",
       "      <td>M</td>\n",
       "      <td>58</td>\n",
       "      <td>2eeac8d8feae4a8cad5a6af0499a211d</td>\n",
       "      <td>51000.0</td>\n",
       "      <td>257</td>\n",
       "    </tr>\n",
       "  </tbody>\n",
       "</table>\n",
       "</div>"
      ],
      "text/plain": [
       "  gender  age                                id    income  \\\n",
       "0      F   55  0610b486422d4921ae7d2bf64640c50b  112000.0   \n",
       "1      F   75  78afa995795e4d85b5d9ceeca43f5fef  100000.0   \n",
       "2      M   68  e2127556f4f64592b11af22de27a7932   70000.0   \n",
       "3      M   65  389bc3fa690240e798340f5a15918d5c   53000.0   \n",
       "4      M   58  2eeac8d8feae4a8cad5a6af0499a211d   51000.0   \n",
       "\n",
       "   membership_length_days  \n",
       "0                     376  \n",
       "1                     443  \n",
       "2                      91  \n",
       "3                     167  \n",
       "4                     257  "
      ]
     },
     "execution_count": 168,
     "metadata": {},
     "output_type": "execute_result"
    }
   ],
   "source": [
    "#first we want to add in the discrimnant variables of the dataset. Age, income, gender, and when they became a member\n",
    "profile = pd.read_csv(\"https://raw.githubusercontent.com/mitchell-jones/starbucks-6276/main/data/processed/profile_transformed.csv\")\n",
    "\n",
    "#We remove the extra index and the scaled membership days and when they became a member\n",
    "profile = profile.drop(columns = [\"Unnamed: 0\", \"membership_length_scaled\", \"became_member_on\", \"became_member_on_converted\"])\n",
    "profile.head()"
   ]
  },
  {
   "cell_type": "code",
   "execution_count": 180,
   "metadata": {},
   "outputs": [],
   "source": [
    "#Merge the profile data to the cluster result data\n",
    "lda_data = profile.merge(cluster_data3, how = \"inner\", left_on = \"id\", right_on = \"person_id\")\n",
    "\n",
    "#remove repeat of id\n",
    "lda_data = lda_data.drop(columns = \"id\")\n"
   ]
  },
  {
   "cell_type": "code",
   "execution_count": 184,
   "metadata": {},
   "outputs": [
    {
     "data": {
      "text/html": [
       "<div>\n",
       "<style scoped>\n",
       "    .dataframe tbody tr th:only-of-type {\n",
       "        vertical-align: middle;\n",
       "    }\n",
       "\n",
       "    .dataframe tbody tr th {\n",
       "        vertical-align: top;\n",
       "    }\n",
       "\n",
       "    .dataframe thead th {\n",
       "        text-align: right;\n",
       "    }\n",
       "</style>\n",
       "<table border=\"1\" class=\"dataframe\">\n",
       "  <thead>\n",
       "    <tr style=\"text-align: right;\">\n",
       "      <th></th>\n",
       "      <th>gender</th>\n",
       "      <th>age</th>\n",
       "      <th>income</th>\n",
       "      <th>membership_length_days</th>\n",
       "      <th>person_id</th>\n",
       "      <th>total_offer_views</th>\n",
       "      <th>total_completed_offers</th>\n",
       "      <th>total_rewards_received</th>\n",
       "      <th>average_offer_payment</th>\n",
       "      <th>number_of_transactions</th>\n",
       "      <th>average_transaction_amount</th>\n",
       "      <th>cluster_num</th>\n",
       "    </tr>\n",
       "  </thead>\n",
       "  <tbody>\n",
       "    <tr>\n",
       "      <th>0</th>\n",
       "      <td>1</td>\n",
       "      <td>55</td>\n",
       "      <td>112000.0</td>\n",
       "      <td>376</td>\n",
       "      <td>0610b486422d4921ae7d2bf64640c50b</td>\n",
       "      <td>0</td>\n",
       "      <td>1</td>\n",
       "      <td>5.0</td>\n",
       "      <td>23.220000</td>\n",
       "      <td>3</td>\n",
       "      <td>25.670000</td>\n",
       "      <td>0</td>\n",
       "    </tr>\n",
       "    <tr>\n",
       "      <th>1</th>\n",
       "      <td>1</td>\n",
       "      <td>75</td>\n",
       "      <td>100000.0</td>\n",
       "      <td>443</td>\n",
       "      <td>78afa995795e4d85b5d9ceeca43f5fef</td>\n",
       "      <td>4</td>\n",
       "      <td>3</td>\n",
       "      <td>20.0</td>\n",
       "      <td>21.110000</td>\n",
       "      <td>8</td>\n",
       "      <td>22.623750</td>\n",
       "      <td>0</td>\n",
       "    </tr>\n",
       "    <tr>\n",
       "      <th>2</th>\n",
       "      <td>0</td>\n",
       "      <td>68</td>\n",
       "      <td>70000.0</td>\n",
       "      <td>91</td>\n",
       "      <td>e2127556f4f64592b11af22de27a7932</td>\n",
       "      <td>3</td>\n",
       "      <td>2</td>\n",
       "      <td>7.0</td>\n",
       "      <td>18.420000</td>\n",
       "      <td>4</td>\n",
       "      <td>19.037500</td>\n",
       "      <td>0</td>\n",
       "    </tr>\n",
       "    <tr>\n",
       "      <th>3</th>\n",
       "      <td>0</td>\n",
       "      <td>65</td>\n",
       "      <td>53000.0</td>\n",
       "      <td>167</td>\n",
       "      <td>389bc3fa690240e798340f5a15918d5c</td>\n",
       "      <td>14</td>\n",
       "      <td>14</td>\n",
       "      <td>64.0</td>\n",
       "      <td>12.329286</td>\n",
       "      <td>14</td>\n",
       "      <td>12.329286</td>\n",
       "      <td>1</td>\n",
       "    </tr>\n",
       "    <tr>\n",
       "      <th>4</th>\n",
       "      <td>0</td>\n",
       "      <td>58</td>\n",
       "      <td>51000.0</td>\n",
       "      <td>257</td>\n",
       "      <td>2eeac8d8feae4a8cad5a6af0499a211d</td>\n",
       "      <td>2</td>\n",
       "      <td>1</td>\n",
       "      <td>2.0</td>\n",
       "      <td>7.140000</td>\n",
       "      <td>4</td>\n",
       "      <td>3.905000</td>\n",
       "      <td>0</td>\n",
       "    </tr>\n",
       "  </tbody>\n",
       "</table>\n",
       "</div>"
      ],
      "text/plain": [
       "   gender  age    income  membership_length_days  \\\n",
       "0       1   55  112000.0                     376   \n",
       "1       1   75  100000.0                     443   \n",
       "2       0   68   70000.0                      91   \n",
       "3       0   65   53000.0                     167   \n",
       "4       0   58   51000.0                     257   \n",
       "\n",
       "                          person_id  total_offer_views  \\\n",
       "0  0610b486422d4921ae7d2bf64640c50b                  0   \n",
       "1  78afa995795e4d85b5d9ceeca43f5fef                  4   \n",
       "2  e2127556f4f64592b11af22de27a7932                  3   \n",
       "3  389bc3fa690240e798340f5a15918d5c                 14   \n",
       "4  2eeac8d8feae4a8cad5a6af0499a211d                  2   \n",
       "\n",
       "   total_completed_offers  total_rewards_received  average_offer_payment  \\\n",
       "0                       1                     5.0              23.220000   \n",
       "1                       3                    20.0              21.110000   \n",
       "2                       2                     7.0              18.420000   \n",
       "3                      14                    64.0              12.329286   \n",
       "4                       1                     2.0               7.140000   \n",
       "\n",
       "   number_of_transactions  average_transaction_amount  cluster_num  \n",
       "0                       3                   25.670000            0  \n",
       "1                       8                   22.623750            0  \n",
       "2                       4                   19.037500            0  \n",
       "3                      14                   12.329286            1  \n",
       "4                       4                    3.905000            0  "
      ]
     },
     "execution_count": 184,
     "metadata": {},
     "output_type": "execute_result"
    }
   ],
   "source": [
    "#since we don't have enough info on \"other\" in gender to create a conclusive analysis, we will remove it and convert gender into a binary variable\n",
    "lda_data.gender.value_counts()\n",
    "\n",
    "# converting to binary data for easier analysis\n",
    "df_one = pd.get_dummies(lda_data[\"gender\"])\n",
    "\n",
    " \n",
    "# display result\n",
    "df_two = pd.concat((df_one, lda_data), axis=1)\n",
    "df_two = df_two.drop([\"gender\", 'O'], axis=1)\n",
    "df_two = df_two.drop([\"M\"], axis=1)\n",
    "#convert binary data so if gender = 1 is female and gender = 0 is male\n",
    "lda_updated = df_two.rename(columns={\"F\": \"gender\"})\n",
    "\n",
    "lda_updated.head()\n"
   ]
  },
  {
   "cell_type": "code",
   "execution_count": 245,
   "metadata": {},
   "outputs": [],
   "source": [
    "#Create X and y for lda \n",
    "#For LDA we want to focus on the discriminant variables and their relation to the cluster numbers\n",
    "y = lda_updated.cluster_num\n",
    "X = lda_updated[[\"gender\", \"age\", \"income\", \"membership_length_days\"]]"
   ]
  },
  {
   "cell_type": "code",
   "execution_count": 246,
   "metadata": {},
   "outputs": [],
   "source": [
    "from sklearn.model_selection import cross_val_score\n",
    "from sklearn.model_selection import RepeatedStratifiedKFold\n",
    "from sklearn.discriminant_analysis import LinearDiscriminantAnalysis\n",
    "\n",
    "# create the lda model\n",
    "lda = LinearDiscriminantAnalysis()\n",
    "\n",
    "#Define the evaluation method using kfolds\n",
    "cv = RepeatedStratifiedKFold(n_splits=5, n_repeats=10, random_state=1)"
   ]
  },
  {
   "cell_type": "code",
   "execution_count": 233,
   "metadata": {},
   "outputs": [
    {
     "data": {
      "text/plain": [
       "LinearDiscriminantAnalysis()"
      ]
     },
     "execution_count": 233,
     "metadata": {},
     "output_type": "execute_result"
    }
   ],
   "source": [
    "lda.fit(X, y)"
   ]
  },
  {
   "cell_type": "code",
   "execution_count": 247,
   "metadata": {},
   "outputs": [
    {
     "name": "stdout",
     "output_type": "stream",
     "text": [
      "Mean Accuracy: 0.785 (0.000)\n"
     ]
    }
   ],
   "source": [
    "# evaluate model\n",
    "scores = cross_val_score(estimator = lda, X = X, y = y,\n",
    "                         scoring='accuracy',\n",
    "                         cv=cv, n_jobs=-1)\n",
    "# summarize result\n",
    "print('Mean Accuracy: %.3f (%.3f)' % (np.mean(scores), np.std(scores)))"
   ]
  },
  {
   "cell_type": "code",
   "execution_count": 244,
   "metadata": {},
   "outputs": [
    {
     "data": {
      "text/html": [
       "<div>\n",
       "<style scoped>\n",
       "    .dataframe tbody tr th:only-of-type {\n",
       "        vertical-align: middle;\n",
       "    }\n",
       "\n",
       "    .dataframe tbody tr th {\n",
       "        vertical-align: top;\n",
       "    }\n",
       "\n",
       "    .dataframe thead th {\n",
       "        text-align: right;\n",
       "    }\n",
       "</style>\n",
       "<table border=\"1\" class=\"dataframe\">\n",
       "  <thead>\n",
       "    <tr style=\"text-align: right;\">\n",
       "      <th></th>\n",
       "      <th>gender</th>\n",
       "      <th>age</th>\n",
       "      <th>income</th>\n",
       "      <th>membership_length_days</th>\n",
       "    </tr>\n",
       "  </thead>\n",
       "  <tbody>\n",
       "    <tr>\n",
       "      <th>0</th>\n",
       "      <td>0.398</td>\n",
       "      <td>53.874</td>\n",
       "      <td>64233.923</td>\n",
       "      <td>503.843</td>\n",
       "    </tr>\n",
       "    <tr>\n",
       "      <th>1</th>\n",
       "      <td>0.468</td>\n",
       "      <td>55.796</td>\n",
       "      <td>68517.105</td>\n",
       "      <td>623.907</td>\n",
       "    </tr>\n",
       "    <tr>\n",
       "      <th>2</th>\n",
       "      <td>0.538</td>\n",
       "      <td>58.312</td>\n",
       "      <td>80037.500</td>\n",
       "      <td>540.875</td>\n",
       "    </tr>\n",
       "  </tbody>\n",
       "</table>\n",
       "</div>"
      ],
      "text/plain": [
       "   gender     age     income  membership_length_days\n",
       "0   0.398  53.874  64233.923                 503.843\n",
       "1   0.468  55.796  68517.105                 623.907\n",
       "2   0.538  58.312  80037.500                 540.875"
      ]
     },
     "execution_count": 244,
     "metadata": {},
     "output_type": "execute_result"
    }
   ],
   "source": [
    "# Evaluate result\n",
    "means = pd.DataFrame(lda.means_, columns = [\"gender\", \"age\", \"income\", \"membership_length_days\"])\n",
    "\n",
    "round(means, 3)"
   ]
  },
  {
   "cell_type": "markdown",
   "metadata": {},
   "source": [
    "1. Age doesnt seem to influence behavior that much. \n",
    "2. Income does separate cluster 2 from the others.\n",
    "3. Cluster 1 has longer membership\n",
    "4. Cluster 0 is closer to male"
   ]
  }
 ],
 "metadata": {
  "interpreter": {
   "hash": "8fac594bfae6525c0c41b4041d2d72effa188cc8ead05f81b1fab2bb098927fb"
  },
  "kernelspec": {
   "display_name": "Python 3",
   "language": "python",
   "name": "python3"
  },
  "language_info": {
   "codemirror_mode": {
    "name": "ipython",
    "version": 3
   },
   "file_extension": ".py",
   "mimetype": "text/x-python",
   "name": "python",
   "nbconvert_exporter": "python",
   "pygments_lexer": "ipython3",
   "version": "3.8.8"
  }
 },
 "nbformat": 4,
 "nbformat_minor": 2
}
